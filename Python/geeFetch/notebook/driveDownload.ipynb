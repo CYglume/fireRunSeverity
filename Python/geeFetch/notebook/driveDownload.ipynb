{
 "cells": [
  {
   "cell_type": "markdown",
   "metadata": {},
   "source": [
    "## Import libraries"
   ]
  },
  {
   "cell_type": "code",
   "execution_count": 1,
   "metadata": {},
   "outputs": [],
   "source": [
    "import os, io, json\n",
    "from google.auth.transport.requests import Request\n",
    "from google.oauth2.credentials import Credentials\n",
    "from google_auth_oauthlib.flow import InstalledAppFlow\n",
    "from googleapiclient.discovery import build\n",
    "from googleapiclient.http import MediaIoBaseDownload\n",
    "from googleapiclient.errors import HttpError\n"
   ]
  },
  {
   "cell_type": "markdown",
   "metadata": {},
   "source": [
    "## Set up environmental variables"
   ]
  },
  {
   "cell_type": "code",
   "execution_count": 2,
   "metadata": {},
   "outputs": [],
   "source": [
    "# Modify this line to include all AOI folder names\n",
    "AOI_lst = ['GIF14_Au', 'isocronas_las_tablas']"
   ]
  },
  {
   "cell_type": "code",
   "execution_count": 3,
   "metadata": {},
   "outputs": [
    {
     "data": {
      "text/plain": [
       "'fireRunSeverity'"
      ]
     },
     "execution_count": 3,
     "metadata": {},
     "output_type": "execute_result"
    }
   ],
   "source": [
    "root_folder = os.getcwd().split('\\\\')\n",
    "root_folder = root_folder[1:-3]\n",
    "if root_folder[-1] != 'fireRunSeverity':\n",
    "    print(\"Didn't get correct root folder!\")\n",
    "    print(root_folder)\n",
    "root_folder = os.path.join('C:\\\\', *root_folder)\n",
    "\n",
    "os.path.basename(root_folder)"
   ]
  },
  {
   "cell_type": "markdown",
   "metadata": {},
   "source": [
    "## Start Connection with Google Earth Engine"
   ]
  },
  {
   "cell_type": "code",
   "execution_count": 4,
   "metadata": {},
   "outputs": [],
   "source": [
    "# Set up the Drive API client\n",
    "# If modifying these scopes, delete the file token.json.\n",
    "SCOPES = [\"https://www.googleapis.com/auth/drive.readonly\"]\n",
    "creds = None"
   ]
  },
  {
   "cell_type": "code",
   "execution_count": 5,
   "metadata": {},
   "outputs": [],
   "source": [
    "# The file 'credentials.json' should be downloaded from Google Cloud Console\n",
    "cred_js_path = os.path.join(root_folder, 'Python/geeFetch/.credential.json')\n",
    "token_js_path = os.path.join(root_folder, 'Python/geeFetch/.token.json')\n",
    "\n",
    "# Check if `SCOPES` is modified\n",
    "with open(token_js_path, 'r') as file:\n",
    "    data = json.load(file)\n",
    "if SCOPES != data['scopes']:\n",
    "    print(\"SCOPES changed!\")\n",
    "    os.remove(token_js_path)\n",
    "\n",
    "# Set up connection token or regenerate a new one\n",
    "if os.path.exists(token_js_path):\n",
    "    creds = Credentials.from_authorized_user_file(token_js_path, SCOPES)\n",
    "if not creds or not creds.valid:\n",
    "    if creds and creds.expired and creds.refresh_token:\n",
    "      creds.refresh(Request())\n",
    "    else:\n",
    "      flow = InstalledAppFlow.from_client_secrets_file(\n",
    "          cred_js_path, SCOPES\n",
    "      )\n",
    "      creds = flow.run_local_server(port=0)\n",
    "    # Save the credentials for the next run\n",
    "    with open(token_js_path, \"w\") as token:\n",
    "      token.write(creds.to_json())"
   ]
  },
  {
   "cell_type": "code",
   "execution_count": 7,
   "metadata": {},
   "outputs": [
    {
     "name": "stdout",
     "output_type": "stream",
     "text": [
      "Files:\n",
      "PythonGEE_output--GIF14_Au--S2_M_RdNBR--20012025_2134.tif (1sjwsiyEXRn0pTVzDKHsm1MeHiFi87G0C)\n",
      "PythonGEE_output--GIF14_Au--S2_M_RBR--20012025_2134.tif (160afaJV41hoc3-MDfzJrIqdlVEl1z_YD)\n",
      "PythonGEE_output--GIF14_Au--S2_RdNBR--20012025_2134.tif (1wujTISxXdjEHNS-mZBBknA0JnxxEmzXB)\n",
      "PythonGEE_output--GIF14_Au--S2_RBR--20012025_2134.tif (1e-M22Xu_Bf_ixQ76tU_ngUUQcp6a6xsQ)\n",
      "PythonGEE_output--GIF14_Au--S2_M_dNBR--20012025_2134.tif (1Inq-wBvb1UwcezObo_fmCVsggutYsvPZ)\n",
      "PythonGEE_output--GIF14_Au--S2_dNBR--20012025_2134.tif (17ebEF2TjUya6hm32kxgu8lImJ7XN0Bhi)\n"
     ]
    }
   ],
   "source": [
    "try:\n",
    "    service = build(\"drive\", \"v3\", credentials=creds)\n",
    "\n",
    "    # Call the Drive v3 API\n",
    "    results = (\n",
    "        service.files()\n",
    "        .list(pageSize=10, fields=\"nextPageToken, files(id, name)\")\n",
    "        .execute()\n",
    "    )\n",
    "    items = results.get(\"files\", [])\n",
    "\n",
    "    if not items:\n",
    "      print(\"No files found.\")\n",
    "      exit()\n",
    "    print(\"Files:\")\n",
    "    \n",
    "    # Match file in the selected AOI\n",
    "    items_filt = []\n",
    "    for item in items:\n",
    "      if item['name'].split(\"--\")[0] == \"PythonGEE_output\":\n",
    "         print(f\"{item['name']} ({item['id']})\")\n",
    "         items_filt.append(item)\n",
    "except HttpError as error:\n",
    "    # TODO(developer) - Handle errors from drive API.\n",
    "    print(f\"An error occurred: {error}\")"
   ]
  },
  {
   "cell_type": "markdown",
   "metadata": {},
   "source": [
    "## Download to local folder"
   ]
  },
  {
   "cell_type": "code",
   "execution_count": 16,
   "metadata": {},
   "outputs": [
    {
     "name": "stdout",
     "output_type": "stream",
     "text": [
      "#------------------------------#\n",
      "AOI: GIF14_Au\n",
      "Folder GIF14_Au exist!\n",
      "Found online file: PythonGEE_output--GIF14_Au--S2_M_RdNBR--20012025_2134.tif\n",
      "!-- S2_M_RdNBR--20012025_2134.tif exists!\n",
      "Found online file: PythonGEE_output--GIF14_Au--S2_M_RBR--20012025_2134.tif\n",
      "Download 21%.\n",
      "Download 42%.\n",
      "Download 63%.\n",
      "Download 84%.\n",
      "Download 100%.\n",
      "Found online file: PythonGEE_output--GIF14_Au--S2_RdNBR--20012025_2134.tif\n",
      "Download 21%.\n",
      "Download 42%.\n",
      "Download 63%.\n",
      "Download 85%.\n",
      "Download 100%.\n",
      "Found online file: PythonGEE_output--GIF14_Au--S2_RBR--20012025_2134.tif\n",
      "Download 21%.\n",
      "Download 42%.\n",
      "Download 63%.\n",
      "Download 85%.\n",
      "Download 100%.\n",
      "Found online file: PythonGEE_output--GIF14_Au--S2_M_dNBR--20012025_2134.tif\n",
      "Download 21%.\n",
      "Download 42%.\n",
      "Download 63%.\n",
      "Download 84%.\n",
      "Download 100%.\n",
      "Found online file: PythonGEE_output--GIF14_Au--S2_dNBR--20012025_2134.tif\n",
      "Download 21%.\n",
      "Download 42%.\n",
      "Download 63%.\n",
      "Download 85%.\n",
      "Download 100%.\n",
      "#------------------------------#\n",
      "\n",
      "\n",
      "#------------------------------#\n",
      "AOI: isocronas_las_tablas\n",
      "#------------------------------#\n",
      "\n",
      "\n"
     ]
    }
   ],
   "source": [
    "for in_Name in AOI_lst:\n",
    "    print(\"#------------------------------#\")\n",
    "    print(\"AOI:\", in_Name)\n",
    "    ### Folder ### \n",
    "    # Check Folder exists\n",
    "    outGEEFLD = os.path.join(root_folder, 'data', 'GEE', in_Name)\n",
    "    if os.path.isdir(outGEEFLD):\n",
    "        print('Folder', in_Name, 'exist!')\n",
    "        pass\n",
    "    else:\n",
    "        os.mkdir(outGEEFLD)\n",
    "\n",
    "    # Run for each tif in list\n",
    "    for item in items_filt:\n",
    "        if item['name'].split(\"--\")[1] == in_Name:\n",
    "            ### Connection ###    \n",
    "            # Request the file metadata to get the name\n",
    "            file = service.files().get(fileId=item['id']).execute()\n",
    "            print(\"Found online file:\", file['name'])\n",
    "\n",
    "            ### Download ###\n",
    "            # Download the file\n",
    "            out_file_name = \"--\".join(item['name'].split(\"--\")[2:]) # delete AOI recognizing string\n",
    "            out_file_name = os.path.join(outGEEFLD, out_file_name)\n",
    "            if os.path.exists(out_file_name):\n",
    "                print('!--', os.path.basename(out_file_name), 'exists!')\n",
    "                continue\n",
    "            else:\n",
    "                request = service.files().get_media(fileId=item['id'])\n",
    "                fh = io.FileIO(out_file_name, 'wb')\n",
    "                downloader = MediaIoBaseDownload(fh, request)\n",
    "                done = False\n",
    "                while done is False:\n",
    "                    status, done = downloader.next_chunk()\n",
    "                    print(f\"Download {int(status.progress() * 100)}%.\")\n",
    "    print(\"#------------------------------#\\n\\n\")\n"
   ]
  }
 ],
 "metadata": {
  "kernelspec": {
   "display_name": "mapWork2pip",
   "language": "python",
   "name": "python3"
  },
  "language_info": {
   "codemirror_mode": {
    "name": "ipython",
    "version": 3
   },
   "file_extension": ".py",
   "mimetype": "text/x-python",
   "name": "python",
   "nbconvert_exporter": "python",
   "pygments_lexer": "ipython3",
   "version": "3.12.7"
  }
 },
 "nbformat": 4,
 "nbformat_minor": 2
}
