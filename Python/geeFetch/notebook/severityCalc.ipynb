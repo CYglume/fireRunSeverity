{
  "cells": [
    {
      "cell_type": "markdown",
      "metadata": {},
      "source": [
        "## Import libraries"
      ]
    },
    {
      "cell_type": "code",
      "execution_count": 50,
      "metadata": {},
      "outputs": [
        {
          "data": {
            "text/html": [
              "\n",
              "            <style>\n",
              "                .geemap-dark {\n",
              "                    --jp-widgets-color: white;\n",
              "                    --jp-widgets-label-color: white;\n",
              "                    --jp-ui-font-color1: white;\n",
              "                    --jp-layout-color2: #454545;\n",
              "                    background-color: #383838;\n",
              "                }\n",
              "\n",
              "                .geemap-dark .jupyter-button {\n",
              "                    --jp-layout-color3: #383838;\n",
              "                }\n",
              "\n",
              "                .geemap-colab {\n",
              "                    background-color: var(--colab-primary-surface-color, white);\n",
              "                }\n",
              "\n",
              "                .geemap-colab .jupyter-button {\n",
              "                    --jp-layout-color3: var(--colab-primary-surface-color, white);\n",
              "                }\n",
              "            </style>\n",
              "            "
            ],
            "text/plain": [
              "<IPython.core.display.HTML object>"
            ]
          },
          "metadata": {},
          "output_type": "display_data"
        }
      ],
      "source": [
        "import ee\n",
        "import geemap\n",
        "import os, re, json, time\n",
        "import geopandas as gpd\n",
        "from datetime import datetime, timedelta, date\n",
        "from shapely.geometry import Polygon, mapping\n",
        "from timezonefinder import TimezoneFinder\n",
        "import pytz\n",
        "from zoneinfo import ZoneInfo\n"
      ]
    },
    {
      "cell_type": "markdown",
      "metadata": {},
      "source": [
        "## Start Connection with Google Earth Engine"
      ]
    },
    {
      "cell_type": "code",
      "execution_count": null,
      "metadata": {},
      "outputs": [
        {
          "data": {
            "text/html": [
              "\n",
              "            <style>\n",
              "                .geemap-dark {\n",
              "                    --jp-widgets-color: white;\n",
              "                    --jp-widgets-label-color: white;\n",
              "                    --jp-ui-font-color1: white;\n",
              "                    --jp-layout-color2: #454545;\n",
              "                    background-color: #383838;\n",
              "                }\n",
              "\n",
              "                .geemap-dark .jupyter-button {\n",
              "                    --jp-layout-color3: #383838;\n",
              "                }\n",
              "\n",
              "                .geemap-colab {\n",
              "                    background-color: var(--colab-primary-surface-color, white);\n",
              "                }\n",
              "\n",
              "                .geemap-colab .jupyter-button {\n",
              "                    --jp-layout-color3: var(--colab-primary-surface-color, white);\n",
              "                }\n",
              "            </style>\n",
              "            "
            ],
            "text/plain": [
              "<IPython.core.display.HTML object>"
            ]
          },
          "metadata": {},
          "output_type": "display_data"
        },
        {
          "name": "stdout",
          "output_type": "stream",
          "text": [
            "Hello from the Earth Engine servers!\n"
          ]
        }
      ],
      "source": [
        "ee.Authenticate(force=True)\n",
        "ee.Initialize()\n",
        "print(ee.String('Hello from the Earth Engine servers!').getInfo())"
      ]
    },
    {
      "cell_type": "markdown",
      "metadata": {},
      "source": [
        "## Set up environmental variables"
      ]
    },
    {
      "cell_type": "code",
      "execution_count": 3,
      "metadata": {},
      "outputs": [
        {
          "data": {
            "text/html": [
              "\n",
              "            <style>\n",
              "                .geemap-dark {\n",
              "                    --jp-widgets-color: white;\n",
              "                    --jp-widgets-label-color: white;\n",
              "                    --jp-ui-font-color1: white;\n",
              "                    --jp-layout-color2: #454545;\n",
              "                    background-color: #383838;\n",
              "                }\n",
              "\n",
              "                .geemap-dark .jupyter-button {\n",
              "                    --jp-layout-color3: #383838;\n",
              "                }\n",
              "\n",
              "                .geemap-colab {\n",
              "                    background-color: var(--colab-primary-surface-color, white);\n",
              "                }\n",
              "\n",
              "                .geemap-colab .jupyter-button {\n",
              "                    --jp-layout-color3: var(--colab-primary-surface-color, white);\n",
              "                }\n",
              "            </style>\n",
              "            "
            ],
            "text/plain": [
              "<IPython.core.display.HTML object>"
            ]
          },
          "metadata": {},
          "output_type": "display_data"
        }
      ],
      "source": [
        "# To get root path under project folder structure\n",
        "root_folder = os.getcwd().split('\\\\')\n",
        "root_folder = root_folder[1:-3]\n",
        "if root_folder[-1] != 'fireRunSeverity':\n",
        "    print(\"Didn't get correct root folder!\")\n",
        "    print(root_folder)\n",
        "root_folder = os.path.join('C:\\\\', *root_folder)\n",
        "\n",
        "# List in put data for GEE fetch\n",
        "run_DataDir = r\"data/fireruns\"\n",
        "AreaList = os.listdir(os.path.join(root_folder,run_DataDir))\n",
        "AreaList\n",
        "in_Name = 'GIF14_Au'\n",
        "\n",
        "# os.path.basename(root_folder)"
      ]
    },
    {
      "cell_type": "markdown",
      "metadata": {},
      "source": [
        "## Load EE side data"
      ]
    },
    {
      "cell_type": "code",
      "execution_count": 26,
      "metadata": {},
      "outputs": [
        {
          "data": {
            "text/html": [
              "\n",
              "            <style>\n",
              "                .geemap-dark {\n",
              "                    --jp-widgets-color: white;\n",
              "                    --jp-widgets-label-color: white;\n",
              "                    --jp-ui-font-color1: white;\n",
              "                    --jp-layout-color2: #454545;\n",
              "                    background-color: #383838;\n",
              "                }\n",
              "\n",
              "                .geemap-dark .jupyter-button {\n",
              "                    --jp-layout-color3: #383838;\n",
              "                }\n",
              "\n",
              "                .geemap-colab {\n",
              "                    background-color: var(--colab-primary-surface-color, white);\n",
              "                }\n",
              "\n",
              "                .geemap-colab .jupyter-button {\n",
              "                    --jp-layout-color3: var(--colab-primary-surface-color, white);\n",
              "                }\n",
              "            </style>\n",
              "            "
            ],
            "text/plain": [
              "<IPython.core.display.HTML object>"
            ]
          },
          "metadata": {},
          "output_type": "display_data"
        }
      ],
      "source": [
        "# Add Earth Engine dataset\n",
        "S2_harmon = ee.ImageCollection(\"COPERNICUS/S2_SR_HARMONIZED\")\n",
        "Map = geemap.Map(center=[40, -100], zoom=4)\n",
        "Map.setCenter(148.3462, -37.3684,9)\n"
      ]
    },
    {
      "cell_type": "markdown",
      "metadata": {},
      "source": [
        "## Load Local side data"
      ]
    },
    {
      "cell_type": "code",
      "execution_count": 11,
      "metadata": {},
      "outputs": [
        {
          "data": {
            "text/html": [
              "\n",
              "            <style>\n",
              "                .geemap-dark {\n",
              "                    --jp-widgets-color: white;\n",
              "                    --jp-widgets-label-color: white;\n",
              "                    --jp-ui-font-color1: white;\n",
              "                    --jp-layout-color2: #454545;\n",
              "                    background-color: #383838;\n",
              "                }\n",
              "\n",
              "                .geemap-dark .jupyter-button {\n",
              "                    --jp-layout-color3: #383838;\n",
              "                }\n",
              "\n",
              "                .geemap-colab {\n",
              "                    background-color: var(--colab-primary-surface-color, white);\n",
              "                }\n",
              "\n",
              "                .geemap-colab .jupyter-button {\n",
              "                    --jp-layout-color3: var(--colab-primary-surface-color, white);\n",
              "                }\n",
              "            </style>\n",
              "            "
            ],
            "text/plain": [
              "<IPython.core.display.HTML object>"
            ]
          },
          "metadata": {},
          "output_type": "display_data"
        },
        {
          "name": "stdout",
          "output_type": "stream",
          "text": [
            "GIF14_32755_multipart.shp\n",
            "EPSG:32755\n",
            "{'type': 'Polygon', 'coordinates': (((148.797548490504, -37.78877807241547), (148.797548490504, -37.04608874283253), (150.0295287036503, -37.04608874283253), (150.0295287036503, -37.78877807241547), (148.797548490504, -37.78877807241547)),)}\n"
          ]
        }
      ],
      "source": [
        "dataFLD = os.path.join(root_folder, 'data', 'fireruns', in_Name)\n",
        "inFLD = os.path.join(dataFLD, 'input')\n",
        "shpIn  = []\n",
        "for f in os.scandir(inFLD):\n",
        "    if re.search(r\".shp$\", f.name):\n",
        "        print(f.name)\n",
        "        shpIn.append(f)\n",
        "\n",
        "if len(shpIn) != 1:\n",
        "    print(\"Check No. of shp file not equal to 1!\")\n",
        "else:\n",
        "    shpIn = shpIn[0]\n",
        "\n",
        "# Read Shp file\n",
        "shpGPD = gpd.read_file(os.path.join(inFLD, shpIn))\n",
        "print(shpGPD.crs)\n",
        "shp_reproj = shpGPD.to_crs(\"EPSG:4326\")\n",
        "# Get the bounds\n",
        "minx, miny, maxx, maxy = shp_reproj.total_bounds\n",
        "# Create a polygon of bounds\n",
        "bounds_polygon = Polygon([(minx, miny), (minx, maxy), (maxx, maxy), (maxx, miny), (minx, miny)])\n",
        "# Convert the polygon to GeoJSON\n",
        "json_polygon = mapping(bounds_polygon)\n",
        "print(json_polygon)"
      ]
    },
    {
      "cell_type": "markdown",
      "metadata": {},
      "source": [
        "## Modify time zone"
      ]
    },
    {
      "cell_type": "code",
      "execution_count": 12,
      "metadata": {},
      "outputs": [
        {
          "data": {
            "text/html": [
              "\n",
              "            <style>\n",
              "                .geemap-dark {\n",
              "                    --jp-widgets-color: white;\n",
              "                    --jp-widgets-label-color: white;\n",
              "                    --jp-ui-font-color1: white;\n",
              "                    --jp-layout-color2: #454545;\n",
              "                    background-color: #383838;\n",
              "                }\n",
              "\n",
              "                .geemap-dark .jupyter-button {\n",
              "                    --jp-layout-color3: #383838;\n",
              "                }\n",
              "\n",
              "                .geemap-colab {\n",
              "                    background-color: var(--colab-primary-surface-color, white);\n",
              "                }\n",
              "\n",
              "                .geemap-colab .jupyter-button {\n",
              "                    --jp-layout-color3: var(--colab-primary-surface-color, white);\n",
              "                }\n",
              "            </style>\n",
              "            "
            ],
            "text/plain": [
              "<IPython.core.display.HTML object>"
            ]
          },
          "metadata": {},
          "output_type": "display_data"
        },
        {
          "name": "stdout",
          "output_type": "stream",
          "text": [
            "Accurate Time Zone: Australia/Melbourne\n"
          ]
        }
      ],
      "source": [
        "def get_timezone(lat, lon):\n",
        "    tf = TimezoneFinder()\n",
        "    tz_name = tf.timezone_at(lng=lon, lat=lat)\n",
        "    return tz_name\n",
        "\n",
        "latitude = (miny + maxy)/2\n",
        "longitude = (minx + maxx)/2\n",
        "timezone = get_timezone(latitude, longitude)\n",
        "print(f\"Accurate Time Zone: {timezone}\")"
      ]
    },
    {
      "cell_type": "code",
      "execution_count": 28,
      "metadata": {},
      "outputs": [
        {
          "data": {
            "text/html": [
              "\n",
              "            <style>\n",
              "                .geemap-dark {\n",
              "                    --jp-widgets-color: white;\n",
              "                    --jp-widgets-label-color: white;\n",
              "                    --jp-ui-font-color1: white;\n",
              "                    --jp-layout-color2: #454545;\n",
              "                    background-color: #383838;\n",
              "                }\n",
              "\n",
              "                .geemap-dark .jupyter-button {\n",
              "                    --jp-layout-color3: #383838;\n",
              "                }\n",
              "\n",
              "                .geemap-colab {\n",
              "                    background-color: var(--colab-primary-surface-color, white);\n",
              "                }\n",
              "\n",
              "                .geemap-colab .jupyter-button {\n",
              "                    --jp-layout-color3: var(--colab-primary-surface-color, white);\n",
              "                }\n",
              "            </style>\n",
              "            "
            ],
            "text/plain": [
              "<IPython.core.display.HTML object>"
            ]
          },
          "metadata": {},
          "output_type": "display_data"
        },
        {
          "name": "stdout",
          "output_type": "stream",
          "text": [
            "[datetime.datetime(2019, 12, 29, 14, 0, tzinfo=<UTC>), datetime.datetime(2019, 12, 30, 3, 0, tzinfo=<UTC>), datetime.datetime(2019, 12, 31, 14, 0, tzinfo=<UTC>), datetime.datetime(2019, 12, 31, 14, 0, tzinfo=<UTC>), datetime.datetime(2019, 12, 31, 14, 0, tzinfo=<UTC>), datetime.datetime(2019, 12, 31, 14, 0, tzinfo=<UTC>), datetime.datetime(2020, 1, 1, 3, 0, tzinfo=<UTC>), datetime.datetime(2020, 1, 1, 3, 0, tzinfo=<UTC>), datetime.datetime(2020, 1, 1, 3, 0, tzinfo=<UTC>), datetime.datetime(2020, 1, 1, 3, 0, tzinfo=<UTC>), datetime.datetime(2020, 1, 1, 3, 0, tzinfo=<UTC>), datetime.datetime(2020, 1, 1, 3, 0, tzinfo=<UTC>), datetime.datetime(2020, 1, 1, 3, 0, tzinfo=<UTC>), datetime.datetime(2020, 1, 1, 14, 0, tzinfo=<UTC>), datetime.datetime(2020, 1, 1, 14, 0, tzinfo=<UTC>), datetime.datetime(2020, 1, 1, 14, 0, tzinfo=<UTC>), datetime.datetime(2020, 1, 2, 3, 0, tzinfo=<UTC>), datetime.datetime(2020, 1, 2, 3, 0, tzinfo=<UTC>), datetime.datetime(2020, 1, 2, 3, 0, tzinfo=<UTC>), datetime.datetime(2020, 1, 2, 3, 0, tzinfo=<UTC>), datetime.datetime(2020, 1, 2, 3, 0, tzinfo=<UTC>), datetime.datetime(2020, 1, 2, 14, 0, tzinfo=<UTC>), datetime.datetime(2020, 1, 3, 3, 0, tzinfo=<UTC>), datetime.datetime(2020, 1, 3, 3, 0, tzinfo=<UTC>), datetime.datetime(2020, 1, 3, 3, 0, tzinfo=<UTC>), datetime.datetime(2020, 1, 3, 3, 0, tzinfo=<UTC>), datetime.datetime(2020, 1, 3, 3, 0, tzinfo=<UTC>), datetime.datetime(2020, 1, 3, 14, 0, tzinfo=<UTC>), datetime.datetime(2020, 1, 3, 14, 0, tzinfo=<UTC>), datetime.datetime(2020, 1, 3, 14, 0, tzinfo=<UTC>), datetime.datetime(2020, 1, 4, 3, 0, tzinfo=<UTC>), datetime.datetime(2020, 1, 4, 3, 0, tzinfo=<UTC>), datetime.datetime(2020, 1, 4, 3, 0, tzinfo=<UTC>), datetime.datetime(2020, 1, 4, 3, 0, tzinfo=<UTC>), datetime.datetime(2020, 1, 4, 3, 0, tzinfo=<UTC>), datetime.datetime(2020, 1, 4, 3, 0, tzinfo=<UTC>), datetime.datetime(2020, 1, 4, 14, 0, tzinfo=<UTC>), datetime.datetime(2020, 1, 4, 14, 0, tzinfo=<UTC>), datetime.datetime(2020, 1, 4, 14, 0, tzinfo=<UTC>), datetime.datetime(2020, 1, 4, 14, 0, tzinfo=<UTC>), datetime.datetime(2020, 1, 4, 14, 0, tzinfo=<UTC>), datetime.datetime(2020, 1, 4, 14, 0, tzinfo=<UTC>), datetime.datetime(2020, 1, 5, 14, 0, tzinfo=<UTC>), datetime.datetime(2020, 1, 11, 3, 0, tzinfo=<UTC>), datetime.datetime(2020, 1, 11, 3, 0, tzinfo=<UTC>), datetime.datetime(2020, 1, 11, 3, 0, tzinfo=<UTC>), datetime.datetime(2020, 1, 11, 3, 0, tzinfo=<UTC>), datetime.datetime(2020, 1, 11, 3, 0, tzinfo=<UTC>), datetime.datetime(2020, 1, 11, 3, 0, tzinfo=<UTC>), datetime.datetime(2020, 1, 11, 14, 0, tzinfo=<UTC>), datetime.datetime(2020, 1, 11, 14, 0, tzinfo=<UTC>), datetime.datetime(2020, 1, 12, 3, 0, tzinfo=<UTC>), datetime.datetime(2020, 1, 12, 3, 0, tzinfo=<UTC>), datetime.datetime(2020, 1, 12, 3, 0, tzinfo=<UTC>), datetime.datetime(2020, 1, 12, 3, 0, tzinfo=<UTC>), datetime.datetime(2020, 1, 12, 3, 0, tzinfo=<UTC>), datetime.datetime(2020, 1, 12, 3, 0, tzinfo=<UTC>), datetime.datetime(2020, 1, 12, 3, 0, tzinfo=<UTC>), datetime.datetime(2020, 1, 12, 3, 0, tzinfo=<UTC>), datetime.datetime(2020, 1, 12, 3, 0, tzinfo=<UTC>), datetime.datetime(2020, 1, 12, 14, 0, tzinfo=<UTC>), datetime.datetime(2020, 1, 12, 14, 0, tzinfo=<UTC>), datetime.datetime(2020, 1, 12, 14, 0, tzinfo=<UTC>), datetime.datetime(2020, 1, 12, 14, 0, tzinfo=<UTC>), datetime.datetime(2020, 1, 12, 14, 0, tzinfo=<UTC>), datetime.datetime(2020, 1, 12, 14, 0, tzinfo=<UTC>), datetime.datetime(2020, 1, 12, 14, 0, tzinfo=<UTC>), datetime.datetime(2020, 1, 12, 14, 0, tzinfo=<UTC>), datetime.datetime(2020, 1, 13, 3, 0, tzinfo=<UTC>), datetime.datetime(2020, 1, 13, 3, 0, tzinfo=<UTC>), datetime.datetime(2020, 1, 13, 3, 0, tzinfo=<UTC>), datetime.datetime(2020, 1, 13, 3, 0, tzinfo=<UTC>), datetime.datetime(2020, 1, 13, 3, 0, tzinfo=<UTC>), datetime.datetime(2020, 1, 13, 3, 0, tzinfo=<UTC>), datetime.datetime(2020, 1, 13, 3, 0, tzinfo=<UTC>), datetime.datetime(2020, 1, 13, 3, 0, tzinfo=<UTC>), datetime.datetime(2020, 1, 13, 3, 0, tzinfo=<UTC>), datetime.datetime(2020, 1, 13, 14, 0, tzinfo=<UTC>), datetime.datetime(2020, 1, 13, 14, 0, tzinfo=<UTC>), datetime.datetime(2020, 1, 13, 14, 0, tzinfo=<UTC>), datetime.datetime(2020, 1, 13, 14, 0, tzinfo=<UTC>), datetime.datetime(2020, 1, 14, 14, 0, tzinfo=<UTC>), datetime.datetime(2020, 1, 14, 14, 0, tzinfo=<UTC>), datetime.datetime(2020, 1, 14, 14, 0, tzinfo=<UTC>), datetime.datetime(2020, 1, 14, 14, 0, tzinfo=<UTC>), datetime.datetime(2020, 1, 24, 3, 0, tzinfo=<UTC>), datetime.datetime(2020, 1, 24, 3, 0, tzinfo=<UTC>), datetime.datetime(2020, 1, 31, 3, 0, tzinfo=<UTC>), datetime.datetime(2020, 1, 31, 3, 0, tzinfo=<UTC>), datetime.datetime(2020, 1, 31, 14, 0, tzinfo=<UTC>), datetime.datetime(2020, 2, 2, 14, 0, tzinfo=<UTC>), datetime.datetime(2020, 2, 2, 14, 0, tzinfo=<UTC>), datetime.datetime(2020, 2, 3, 14, 0, tzinfo=<UTC>), datetime.datetime(2020, 2, 5, 3, 0, tzinfo=<UTC>), datetime.datetime(2020, 2, 7, 3, 0, tzinfo=<UTC>)]\n",
            "Fire start date and end date:\n",
            "2019-12-29 2020-02-07\n",
            "Pre- and Post- fire periods selected for satellite images:\n",
            "['2019-08-31', '2019-12-28'] ['2020-02-08', '2020-06-06']\n"
          ]
        }
      ],
      "source": [
        "# Get date of data\n",
        "# Convert time zone to UTC\n",
        "fire_dtString = list(shpGPD['FeHo'])\n",
        "fire_dtsList  = [datetime.strptime(dt, \"%Y/%m/%d_%H%M\").replace(tzinfo=ZoneInfo(timezone)) for dt in fire_dtString]\n",
        "tz = pytz.timezone(\"UTC\")\n",
        "fire_dtsList_UTC = [dt.astimezone(tz) for dt in fire_dtsList]\n",
        "\n",
        "print(sorted(fire_dtsList_UTC))\n",
        "dateSt = min(fire_dtsList_UTC).date()\n",
        "dateEd = max(fire_dtsList_UTC).date()\n",
        "print(\"Fire start date and end date:\")\n",
        "print(dateSt, dateEd)\n",
        "\n",
        "\n",
        "# Compute the date period for retrieving Satellite img\n",
        "prefire_date  = [dateSt - timedelta(days = 4*30), dateSt - timedelta(days = 1)]\n",
        "postfire_date = [dateEd + timedelta(days = 1),    dateEd + timedelta(days = 4*30)]\n",
        "\n",
        "prefire_date = [d.strftime(\"%Y-%m-%d\") for d in prefire_date]\n",
        "postfire_date = [d.strftime(\"%Y-%m-%d\") for d in postfire_date]\n",
        "\n",
        "print(\"Pre- and Post- fire periods selected for satellite images:\")\n",
        "print(prefire_date, postfire_date)"
      ]
    },
    {
      "cell_type": "markdown",
      "metadata": {},
      "source": [
        "## Upload data to EE"
      ]
    },
    {
      "cell_type": "code",
      "execution_count": 27,
      "metadata": {},
      "outputs": [
        {
          "data": {
            "text/html": [
              "\n",
              "            <style>\n",
              "                .geemap-dark {\n",
              "                    --jp-widgets-color: white;\n",
              "                    --jp-widgets-label-color: white;\n",
              "                    --jp-ui-font-color1: white;\n",
              "                    --jp-layout-color2: #454545;\n",
              "                    background-color: #383838;\n",
              "                }\n",
              "\n",
              "                .geemap-dark .jupyter-button {\n",
              "                    --jp-layout-color3: #383838;\n",
              "                }\n",
              "\n",
              "                .geemap-colab {\n",
              "                    background-color: var(--colab-primary-surface-color, white);\n",
              "                }\n",
              "\n",
              "                .geemap-colab .jupyter-button {\n",
              "                    --jp-layout-color3: var(--colab-primary-surface-color, white);\n",
              "                }\n",
              "            </style>\n",
              "            "
            ],
            "text/plain": [
              "<IPython.core.display.HTML object>"
            ]
          },
          "metadata": {},
          "output_type": "display_data"
        },
        {
          "name": "stdout",
          "output_type": "stream",
          "text": [
            "{'type': 'Polygon', 'coordinates': [[[148.797548490504, -37.78877807241547], [150.0295287036503, -37.78877807241547], [150.0295287036503, -37.04608874283253], [148.797548490504, -37.04608874283253], [148.797548490504, -37.78877807241547]]]}\n"
          ]
        }
      ],
      "source": [
        "clipAOI = ee.Geometry.Polygon(json_polygon[\"coordinates\"])\n",
        "clipAOI2 = clipAOI.buffer(50000)\n",
        "print(clipAOI.getInfo())"
      ]
    },
    {
      "cell_type": "code",
      "execution_count": 10,
      "metadata": {},
      "outputs": [
        {
          "data": {
            "text/html": [
              "\n",
              "            <style>\n",
              "                .geemap-dark {\n",
              "                    --jp-widgets-color: white;\n",
              "                    --jp-widgets-label-color: white;\n",
              "                    --jp-ui-font-color1: white;\n",
              "                    --jp-layout-color2: #454545;\n",
              "                    background-color: #383838;\n",
              "                }\n",
              "\n",
              "                .geemap-dark .jupyter-button {\n",
              "                    --jp-layout-color3: #383838;\n",
              "                }\n",
              "\n",
              "                .geemap-colab {\n",
              "                    background-color: var(--colab-primary-surface-color, white);\n",
              "                }\n",
              "\n",
              "                .geemap-colab .jupyter-button {\n",
              "                    --jp-layout-color3: var(--colab-primary-surface-color, white);\n",
              "                }\n",
              "            </style>\n",
              "            "
            ],
            "text/plain": [
              "<IPython.core.display.HTML object>"
            ]
          },
          "metadata": {},
          "output_type": "display_data"
        }
      ],
      "source": [
        "Map.addLayer(clipAOI2, {'color': \"blue\"}, \"Input SHP range\")"
      ]
    },
    {
      "cell_type": "markdown",
      "metadata": {},
      "source": [
        "## (GEE) Process satellite"
      ]
    },
    {
      "cell_type": "code",
      "execution_count": 27,
      "metadata": {},
      "outputs": [
        {
          "data": {
            "text/html": [
              "\n",
              "            <style>\n",
              "                .geemap-dark {\n",
              "                    --jp-widgets-color: white;\n",
              "                    --jp-widgets-label-color: white;\n",
              "                    --jp-ui-font-color1: white;\n",
              "                    --jp-layout-color2: #454545;\n",
              "                    background-color: #383838;\n",
              "                }\n",
              "\n",
              "                .geemap-dark .jupyter-button {\n",
              "                    --jp-layout-color3: #383838;\n",
              "                }\n",
              "\n",
              "                .geemap-colab {\n",
              "                    background-color: var(--colab-primary-surface-color, white);\n",
              "                }\n",
              "\n",
              "                .geemap-colab .jupyter-button {\n",
              "                    --jp-layout-color3: var(--colab-primary-surface-color, white);\n",
              "                }\n",
              "            </style>\n",
              "            "
            ],
            "text/plain": [
              "<IPython.core.display.HTML object>"
            ]
          },
          "metadata": {},
          "output_type": "display_data"
        }
      ],
      "source": [
        "# filter satellite data\n",
        "bandList = [\"B.\", \"B..\", \"QA60\", \"MSK_CLDPRB\"]\n",
        "S2_pre_select = S2_harmon.filterDate(prefire_date[0], prefire_date[1]) \\\n",
        ".filterBounds(clipAOI2).select(bandList)\n",
        "# .filter(ee.Filter.lt('CLOUDY_PIXEL_PERCENTAGE', 5))\n",
        "\n",
        "S2_pos_select = S2_harmon.filterDate(postfire_date[0], postfire_date[1]) \\\n",
        ".filterBounds(clipAOI2).select(bandList)\n",
        "# .filter(ee.Filter.lt('CLOUDY_PIXEL_PERCENTAGE', 5))"
      ]
    },
    {
      "cell_type": "code",
      "execution_count": null,
      "metadata": {},
      "outputs": [
        {
          "data": {
            "text/html": [
              "\n",
              "            <style>\n",
              "                .geemap-dark {\n",
              "                    --jp-widgets-color: white;\n",
              "                    --jp-widgets-label-color: white;\n",
              "                    --jp-ui-font-color1: white;\n",
              "                    --jp-layout-color2: #454545;\n",
              "                    background-color: #383838;\n",
              "                }\n",
              "\n",
              "                .geemap-dark .jupyter-button {\n",
              "                    --jp-layout-color3: #383838;\n",
              "                }\n",
              "\n",
              "                .geemap-colab {\n",
              "                    background-color: var(--colab-primary-surface-color, white);\n",
              "                }\n",
              "\n",
              "                .geemap-colab .jupyter-button {\n",
              "                    --jp-layout-color3: var(--colab-primary-surface-color, white);\n",
              "                }\n",
              "            </style>\n",
              "            "
            ],
            "text/plain": [
              "<IPython.core.display.HTML object>"
            ]
          },
          "metadata": {},
          "output_type": "display_data"
        }
      ],
      "source": [
        "# Functions for Computing Necessary indices\n",
        "def func_maskClouds(image):\n",
        "    imgCLP = image.select(\"MSK_CLDPRB\")\n",
        "    mskCLP = imgCLP.lt(10);  \n",
        "    qa = image.select(\"QA60\")\n",
        "    Clouds = qa.bitwiseAnd(1 << 10).eq(0);  \n",
        "    Cirrus = qa.bitwiseAnd(1 << 11).eq(0); \n",
        "    mask = Clouds.And(Cirrus).And(mskCLP)\n",
        "    return image.updateMask(mask)\n",
        "\n",
        "def func_rescale(image):\n",
        "    refl = image.multiply(0.0001)\n",
        "    return refl.copyProperties(image, [\"system:time_start\"])\n",
        "\n",
        "def func_calcIndices (image):\n",
        "    NBR  = image.normalizedDifference([\"B8\", \"B12\"]).rename(\"NBR\")\n",
        "    NDVI = image.normalizedDifference([\"B8\", \"B4\"]).rename(\"NDVI\")\n",
        "    return image.addBands([NBR, NDVI])\n",
        "\n",
        "def func_calcIndices2(image):\n",
        "    RBR   = image.expression(\n",
        "        \"dNBR / (preNBR + 1.001)\", {\n",
        "            \"preNBR\": image.select('preNBR'),\n",
        "            \"dNBR\": image.select('Cl_dNBR') \n",
        "        }\n",
        "    ).rename('Cl_RBR').toFloat()\n",
        "    RdNBR = image.expression(\n",
        "        \"(abs(preNBR) < 0.001) ? dNBR/sqrt(0.001) : dNBR/sqrt(abs(preNBR))\",{\n",
        "            \"preNBR\": image.select('preNBR'),\n",
        "            \"dNBR\": image.select('Cl_dNBR')\n",
        "        }\n",
        "    ).rename(\"Cl_RdNBR\").toFloat()\n",
        "    M_RBR   = image.expression(\n",
        "        \"dNBR / (preNBR + 1.001)\", {\n",
        "            \"preNBR\": image.select('M_preNBR'),\n",
        "            \"dNBR\": image.select('M_dNBR') \n",
        "        }\n",
        "    ).rename('M_RBR').toFloat()\n",
        "    M_RdNBR = image.expression(\n",
        "        \"(abs(preNBR) < 0.001) ? dNBR/sqrt(0.001) : dNBR/sqrt(abs(preNBR))\",{\n",
        "            \"preNBR\": image.select('M_preNBR'),\n",
        "            \"dNBR\": image.select('M_dNBR')\n",
        "        }\n",
        "    ).rename(\"M_RdNBR\").toFloat()\n",
        "    return image.addBands([RBR, RdNBR, M_RBR, M_RdNBR])"
      ]
    },
    {
      "cell_type": "code",
      "execution_count": 34,
      "metadata": {},
      "outputs": [
        {
          "data": {
            "text/html": [
              "\n",
              "            <style>\n",
              "                .geemap-dark {\n",
              "                    --jp-widgets-color: white;\n",
              "                    --jp-widgets-label-color: white;\n",
              "                    --jp-ui-font-color1: white;\n",
              "                    --jp-layout-color2: #454545;\n",
              "                    background-color: #383838;\n",
              "                }\n",
              "\n",
              "                .geemap-dark .jupyter-button {\n",
              "                    --jp-layout-color3: #383838;\n",
              "                }\n",
              "\n",
              "                .geemap-colab {\n",
              "                    background-color: var(--colab-primary-surface-color, white);\n",
              "                }\n",
              "\n",
              "                .geemap-colab .jupyter-button {\n",
              "                    --jp-layout-color3: var(--colab-primary-surface-color, white);\n",
              "                }\n",
              "            </style>\n",
              "            "
            ],
            "text/plain": [
              "<IPython.core.display.HTML object>"
            ]
          },
          "metadata": {},
          "output_type": "display_data"
        }
      ],
      "source": [
        "S2pre = S2_pre_select.map(func_maskClouds).map(func_rescale) \\\n",
        ".sort('system:time_start') \\\n",
        ".mosaic(); \n",
        "\n",
        "S2pos = S2_pos_select.map(func_maskClouds).map(func_rescale) \\\n",
        ".sort('system:time_start', False) \\\n",
        ".mosaic(); \n",
        "# print(json.dumps(S2pre.getInfo(), indent=4))\n",
        "\n",
        "S2pre_mean = S2_pre_select.map(func_maskClouds).map(func_rescale) \\\n",
        ".sort('system:time_start') \\\n",
        ".mean(); \n",
        "\n",
        "S2pos_mean = S2_pos_select.map(func_maskClouds).map(func_rescale) \\\n",
        ".sort('system:time_start', False) \\\n",
        ".mean(); \n",
        "# print(json.dumps(S2pre.getInfo(), indent=4))\n"
      ]
    },
    {
      "cell_type": "code",
      "execution_count": 14,
      "metadata": {},
      "outputs": [
        {
          "data": {
            "text/html": [
              "\n",
              "            <style>\n",
              "                .geemap-dark {\n",
              "                    --jp-widgets-color: white;\n",
              "                    --jp-widgets-label-color: white;\n",
              "                    --jp-ui-font-color1: white;\n",
              "                    --jp-layout-color2: #454545;\n",
              "                    background-color: #383838;\n",
              "                }\n",
              "\n",
              "                .geemap-dark .jupyter-button {\n",
              "                    --jp-layout-color3: #383838;\n",
              "                }\n",
              "\n",
              "                .geemap-colab {\n",
              "                    background-color: var(--colab-primary-surface-color, white);\n",
              "                }\n",
              "\n",
              "                .geemap-colab .jupyter-button {\n",
              "                    --jp-layout-color3: var(--colab-primary-surface-color, white);\n",
              "                }\n",
              "            </style>\n",
              "            "
            ],
            "text/plain": [
              "<IPython.core.display.HTML object>"
            ]
          },
          "metadata": {},
          "output_type": "display_data"
        }
      ],
      "source": [
        "# Visualization\n",
        "visP = {'bands': [\"B4\",  \"B3\",  \"B2\"], 'max': 0.3}\n",
        "Map.remove(clipAOI2)\n",
        "Map.addLayer(S2pre.clip(clipAOI), visP, \"S2 pre fire\")\n",
        "Map.addLayer(S2pos.clip(clipAOI), visP, \"S2 after fire\")"
      ]
    },
    {
      "cell_type": "code",
      "execution_count": null,
      "metadata": {},
      "outputs": [
        {
          "data": {
            "text/html": [
              "\n",
              "            <style>\n",
              "                .geemap-dark {\n",
              "                    --jp-widgets-color: white;\n",
              "                    --jp-widgets-label-color: white;\n",
              "                    --jp-ui-font-color1: white;\n",
              "                    --jp-layout-color2: #454545;\n",
              "                    background-color: #383838;\n",
              "                }\n",
              "\n",
              "                .geemap-dark .jupyter-button {\n",
              "                    --jp-layout-color3: #383838;\n",
              "                }\n",
              "\n",
              "                .geemap-colab {\n",
              "                    background-color: var(--colab-primary-surface-color, white);\n",
              "                }\n",
              "\n",
              "                .geemap-colab .jupyter-button {\n",
              "                    --jp-layout-color3: var(--colab-primary-surface-color, white);\n",
              "                }\n",
              "            </style>\n",
              "            "
            ],
            "text/plain": [
              "<IPython.core.display.HTML object>"
            ]
          },
          "metadata": {},
          "output_type": "display_data"
        },
        {
          "data": {
            "text/html": [
              "<div><style>:root {\n",
              "  --font-color-primary: var(--jp-content-font-color0, rgba(0, 0, 0, 1));\n",
              "  --font-color-secondary: var(--jp-content-font-color2, rgba(0, 0, 0, 0.6));\n",
              "  --font-color-accent: rgba(123, 31, 162, 1);\n",
              "  --border-color: var(--jp-border-color2, #e0e0e0);\n",
              "  --background-color: var(--jp-layout-color0, white);\n",
              "  --background-color-row-even: var(--jp-layout-color1, white);\n",
              "  --background-color-row-odd: var(--jp-layout-color2, #eeeeee);\n",
              "}\n",
              "\n",
              "html[theme=\"dark\"],\n",
              "body[data-theme=\"dark\"],\n",
              "body.vscode-dark {\n",
              "  --font-color-primary: rgba(255, 255, 255, 1);\n",
              "  --font-color-secondary: rgba(255, 255, 255, 0.6);\n",
              "  --font-color-accent: rgb(173, 132, 190);\n",
              "  --border-color: #2e2e2e;\n",
              "  --background-color: #111111;\n",
              "  --background-color-row-even: #111111;\n",
              "  --background-color-row-odd: #313131;\n",
              "}\n",
              "\n",
              ".ee {\n",
              "  padding: 1em;\n",
              "  line-height: 1.5em;\n",
              "  min-width: 300px;\n",
              "  max-width: 1200px;\n",
              "  overflow-y: scroll;\n",
              "  max-height: 600px;\n",
              "  border: 1px solid var(--border-color);\n",
              "  font-family: monospace;\n",
              "}\n",
              "\n",
              ".ee li {\n",
              "  list-style-type: none;\n",
              "}\n",
              "\n",
              ".ee ul {\n",
              "  padding-left: 1.5em !important;\n",
              "  margin: 0;\n",
              "}\n",
              "\n",
              ".ee > ul {\n",
              "  padding-left: 0 !important;\n",
              "}\n",
              "\n",
              ".ee-open,\n",
              ".ee-shut {\n",
              "  color: var(--font-color-secondary);\n",
              "  cursor: pointer;\n",
              "  margin: 0;\n",
              "}\n",
              "\n",
              ".ee-open:hover,\n",
              ".ee-shut:hover {\n",
              "  color: var(--font-color-primary);\n",
              "}\n",
              "\n",
              ".ee-k {\n",
              "  color: var(--font-color-accent);\n",
              "  margin-right: 6px;\n",
              "}\n",
              "\n",
              ".ee-v {\n",
              "  color: var(--font-color-primary);\n",
              "}\n",
              "\n",
              ".ee-toggle {\n",
              "  display: none;\n",
              "}\n",
              "\n",
              ".ee-shut + ul {\n",
              "  display: none;\n",
              "}\n",
              "\n",
              ".ee-open + ul {\n",
              "  display: block;\n",
              "}\n",
              "\n",
              ".ee-shut::before {\n",
              "  display: inline-block;\n",
              "  content: \"▼\";\n",
              "  margin-right: 6px;\n",
              "  transform: rotate(-90deg);\n",
              "  transition: transform 0.2s;\n",
              "}\n",
              "\n",
              ".ee-open::before {\n",
              "  transform: rotate(0deg);\n",
              "  display: inline-block;\n",
              "  content: \"▼\";\n",
              "  margin-right: 6px;\n",
              "  transition: transform 0.2s;\n",
              "}\n",
              "</style><div class='ee'><ul><li><label class='ee-shut'>Image (10 bands)<input type='checkbox' class='ee-toggle'></label><ul><li><span class='ee-k'>type:</span><span class='ee-v'>Image</span></li><li><label class='ee-shut'>bands: List (10 elements)<input type='checkbox' class='ee-toggle'></label><ul><li><label class='ee-shut'>0: \"dNBR\", float, EPSG:4326<input type='checkbox' class='ee-toggle'></label><ul><li><span class='ee-k'>id:</span><span class='ee-v'>dNBR</span></li><li><span class='ee-k'>crs:</span><span class='ee-v'>EPSG:4326</span></li><li><label class='ee-shut'>crs_transform: [1, 0, 0, 0, 1, 0]<input type='checkbox' class='ee-toggle'></label><ul><li><span class='ee-k'>0:</span><span class='ee-v'>1</span></li><li><span class='ee-k'>1:</span><span class='ee-v'>0</span></li><li><span class='ee-k'>2:</span><span class='ee-v'>0</span></li><li><span class='ee-k'>3:</span><span class='ee-v'>0</span></li><li><span class='ee-k'>4:</span><span class='ee-v'>1</span></li><li><span class='ee-k'>5:</span><span class='ee-v'>0</span></li></ul></li><li><label class='ee-shut'>data_type: float<input type='checkbox' class='ee-toggle'></label><ul><li><span class='ee-k'>type:</span><span class='ee-v'>PixelType</span></li><li><span class='ee-k'>max:</span><span class='ee-v'>2000</span></li><li><span class='ee-k'>min:</span><span class='ee-v'>-2000</span></li><li><span class='ee-k'>precision:</span><span class='ee-v'>float</span></li></ul></li></ul></li><li><label class='ee-shut'>1: \"M_dNBR\", float, EPSG:4326<input type='checkbox' class='ee-toggle'></label><ul><li><span class='ee-k'>id:</span><span class='ee-v'>M_dNBR</span></li><li><span class='ee-k'>crs:</span><span class='ee-v'>EPSG:4326</span></li><li><label class='ee-shut'>crs_transform: [1, 0, 0, 0, 1, 0]<input type='checkbox' class='ee-toggle'></label><ul><li><span class='ee-k'>0:</span><span class='ee-v'>1</span></li><li><span class='ee-k'>1:</span><span class='ee-v'>0</span></li><li><span class='ee-k'>2:</span><span class='ee-v'>0</span></li><li><span class='ee-k'>3:</span><span class='ee-v'>0</span></li><li><span class='ee-k'>4:</span><span class='ee-v'>1</span></li><li><span class='ee-k'>5:</span><span class='ee-v'>0</span></li></ul></li><li><label class='ee-shut'>data_type: float<input type='checkbox' class='ee-toggle'></label><ul><li><span class='ee-k'>type:</span><span class='ee-v'>PixelType</span></li><li><span class='ee-k'>max:</span><span class='ee-v'>2000</span></li><li><span class='ee-k'>min:</span><span class='ee-v'>-2000</span></li><li><span class='ee-k'>precision:</span><span class='ee-v'>float</span></li></ul></li></ul></li><li><label class='ee-shut'>2: \"preNBR\", float, EPSG:4326<input type='checkbox' class='ee-toggle'></label><ul><li><span class='ee-k'>id:</span><span class='ee-v'>preNBR</span></li><li><span class='ee-k'>crs:</span><span class='ee-v'>EPSG:4326</span></li><li><label class='ee-shut'>crs_transform: [1, 0, 0, 0, 1, 0]<input type='checkbox' class='ee-toggle'></label><ul><li><span class='ee-k'>0:</span><span class='ee-v'>1</span></li><li><span class='ee-k'>1:</span><span class='ee-v'>0</span></li><li><span class='ee-k'>2:</span><span class='ee-v'>0</span></li><li><span class='ee-k'>3:</span><span class='ee-v'>0</span></li><li><span class='ee-k'>4:</span><span class='ee-v'>1</span></li><li><span class='ee-k'>5:</span><span class='ee-v'>0</span></li></ul></li><li><label class='ee-shut'>data_type: float<input type='checkbox' class='ee-toggle'></label><ul><li><span class='ee-k'>type:</span><span class='ee-v'>PixelType</span></li><li><span class='ee-k'>max:</span><span class='ee-v'>1</span></li><li><span class='ee-k'>min:</span><span class='ee-v'>-1</span></li><li><span class='ee-k'>precision:</span><span class='ee-v'>float</span></li></ul></li></ul></li><li><label class='ee-shut'>3: \"posNBR\", float, EPSG:4326<input type='checkbox' class='ee-toggle'></label><ul><li><span class='ee-k'>id:</span><span class='ee-v'>posNBR</span></li><li><span class='ee-k'>crs:</span><span class='ee-v'>EPSG:4326</span></li><li><label class='ee-shut'>crs_transform: [1, 0, 0, 0, 1, 0]<input type='checkbox' class='ee-toggle'></label><ul><li><span class='ee-k'>0:</span><span class='ee-v'>1</span></li><li><span class='ee-k'>1:</span><span class='ee-v'>0</span></li><li><span class='ee-k'>2:</span><span class='ee-v'>0</span></li><li><span class='ee-k'>3:</span><span class='ee-v'>0</span></li><li><span class='ee-k'>4:</span><span class='ee-v'>1</span></li><li><span class='ee-k'>5:</span><span class='ee-v'>0</span></li></ul></li><li><label class='ee-shut'>data_type: float<input type='checkbox' class='ee-toggle'></label><ul><li><span class='ee-k'>type:</span><span class='ee-v'>PixelType</span></li><li><span class='ee-k'>max:</span><span class='ee-v'>1</span></li><li><span class='ee-k'>min:</span><span class='ee-v'>-1</span></li><li><span class='ee-k'>precision:</span><span class='ee-v'>float</span></li></ul></li></ul></li><li><label class='ee-shut'>4: \"M_preNBR\", float, EPSG:4326<input type='checkbox' class='ee-toggle'></label><ul><li><span class='ee-k'>id:</span><span class='ee-v'>M_preNBR</span></li><li><span class='ee-k'>crs:</span><span class='ee-v'>EPSG:4326</span></li><li><label class='ee-shut'>crs_transform: [1, 0, 0, 0, 1, 0]<input type='checkbox' class='ee-toggle'></label><ul><li><span class='ee-k'>0:</span><span class='ee-v'>1</span></li><li><span class='ee-k'>1:</span><span class='ee-v'>0</span></li><li><span class='ee-k'>2:</span><span class='ee-v'>0</span></li><li><span class='ee-k'>3:</span><span class='ee-v'>0</span></li><li><span class='ee-k'>4:</span><span class='ee-v'>1</span></li><li><span class='ee-k'>5:</span><span class='ee-v'>0</span></li></ul></li><li><label class='ee-shut'>data_type: float<input type='checkbox' class='ee-toggle'></label><ul><li><span class='ee-k'>type:</span><span class='ee-v'>PixelType</span></li><li><span class='ee-k'>max:</span><span class='ee-v'>1</span></li><li><span class='ee-k'>min:</span><span class='ee-v'>-1</span></li><li><span class='ee-k'>precision:</span><span class='ee-v'>float</span></li></ul></li></ul></li><li><label class='ee-shut'>5: \"M_posNBR\", float, EPSG:4326<input type='checkbox' class='ee-toggle'></label><ul><li><span class='ee-k'>id:</span><span class='ee-v'>M_posNBR</span></li><li><span class='ee-k'>crs:</span><span class='ee-v'>EPSG:4326</span></li><li><label class='ee-shut'>crs_transform: [1, 0, 0, 0, 1, 0]<input type='checkbox' class='ee-toggle'></label><ul><li><span class='ee-k'>0:</span><span class='ee-v'>1</span></li><li><span class='ee-k'>1:</span><span class='ee-v'>0</span></li><li><span class='ee-k'>2:</span><span class='ee-v'>0</span></li><li><span class='ee-k'>3:</span><span class='ee-v'>0</span></li><li><span class='ee-k'>4:</span><span class='ee-v'>1</span></li><li><span class='ee-k'>5:</span><span class='ee-v'>0</span></li></ul></li><li><label class='ee-shut'>data_type: float<input type='checkbox' class='ee-toggle'></label><ul><li><span class='ee-k'>type:</span><span class='ee-v'>PixelType</span></li><li><span class='ee-k'>max:</span><span class='ee-v'>1</span></li><li><span class='ee-k'>min:</span><span class='ee-v'>-1</span></li><li><span class='ee-k'>precision:</span><span class='ee-v'>float</span></li></ul></li></ul></li><li><label class='ee-shut'>6: \"RBR\", float, EPSG:4326<input type='checkbox' class='ee-toggle'></label><ul><li><span class='ee-k'>id:</span><span class='ee-v'>RBR</span></li><li><span class='ee-k'>crs:</span><span class='ee-v'>EPSG:4326</span></li><li><label class='ee-shut'>crs_transform: [1, 0, 0, 0, 1, 0]<input type='checkbox' class='ee-toggle'></label><ul><li><span class='ee-k'>0:</span><span class='ee-v'>1</span></li><li><span class='ee-k'>1:</span><span class='ee-v'>0</span></li><li><span class='ee-k'>2:</span><span class='ee-v'>0</span></li><li><span class='ee-k'>3:</span><span class='ee-v'>0</span></li><li><span class='ee-k'>4:</span><span class='ee-v'>1</span></li><li><span class='ee-k'>5:</span><span class='ee-v'>0</span></li></ul></li><li><label class='ee-shut'>data_type: float<input type='checkbox' class='ee-toggle'></label><ul><li><span class='ee-k'>type:</span><span class='ee-v'>PixelType</span></li><li><span class='ee-k'>precision:</span><span class='ee-v'>float</span></li></ul></li></ul></li><li><label class='ee-shut'>7: \"RdNBR\", float, EPSG:4326<input type='checkbox' class='ee-toggle'></label><ul><li><span class='ee-k'>id:</span><span class='ee-v'>RdNBR</span></li><li><span class='ee-k'>crs:</span><span class='ee-v'>EPSG:4326</span></li><li><label class='ee-shut'>crs_transform: [1, 0, 0, 0, 1, 0]<input type='checkbox' class='ee-toggle'></label><ul><li><span class='ee-k'>0:</span><span class='ee-v'>1</span></li><li><span class='ee-k'>1:</span><span class='ee-v'>0</span></li><li><span class='ee-k'>2:</span><span class='ee-v'>0</span></li><li><span class='ee-k'>3:</span><span class='ee-v'>0</span></li><li><span class='ee-k'>4:</span><span class='ee-v'>1</span></li><li><span class='ee-k'>5:</span><span class='ee-v'>0</span></li></ul></li><li><label class='ee-shut'>data_type: float<input type='checkbox' class='ee-toggle'></label><ul><li><span class='ee-k'>type:</span><span class='ee-v'>PixelType</span></li><li><span class='ee-k'>precision:</span><span class='ee-v'>float</span></li></ul></li></ul></li><li><label class='ee-shut'>8: \"M_RBR\", float, EPSG:4326<input type='checkbox' class='ee-toggle'></label><ul><li><span class='ee-k'>id:</span><span class='ee-v'>M_RBR</span></li><li><span class='ee-k'>crs:</span><span class='ee-v'>EPSG:4326</span></li><li><label class='ee-shut'>crs_transform: [1, 0, 0, 0, 1, 0]<input type='checkbox' class='ee-toggle'></label><ul><li><span class='ee-k'>0:</span><span class='ee-v'>1</span></li><li><span class='ee-k'>1:</span><span class='ee-v'>0</span></li><li><span class='ee-k'>2:</span><span class='ee-v'>0</span></li><li><span class='ee-k'>3:</span><span class='ee-v'>0</span></li><li><span class='ee-k'>4:</span><span class='ee-v'>1</span></li><li><span class='ee-k'>5:</span><span class='ee-v'>0</span></li></ul></li><li><label class='ee-shut'>data_type: float<input type='checkbox' class='ee-toggle'></label><ul><li><span class='ee-k'>type:</span><span class='ee-v'>PixelType</span></li><li><span class='ee-k'>precision:</span><span class='ee-v'>float</span></li></ul></li></ul></li><li><label class='ee-shut'>9: \"M_RdNBR\", float, EPSG:4326<input type='checkbox' class='ee-toggle'></label><ul><li><span class='ee-k'>id:</span><span class='ee-v'>M_RdNBR</span></li><li><span class='ee-k'>crs:</span><span class='ee-v'>EPSG:4326</span></li><li><label class='ee-shut'>crs_transform: [1, 0, 0, 0, 1, 0]<input type='checkbox' class='ee-toggle'></label><ul><li><span class='ee-k'>0:</span><span class='ee-v'>1</span></li><li><span class='ee-k'>1:</span><span class='ee-v'>0</span></li><li><span class='ee-k'>2:</span><span class='ee-v'>0</span></li><li><span class='ee-k'>3:</span><span class='ee-v'>0</span></li><li><span class='ee-k'>4:</span><span class='ee-v'>1</span></li><li><span class='ee-k'>5:</span><span class='ee-v'>0</span></li></ul></li><li><label class='ee-shut'>data_type: float<input type='checkbox' class='ee-toggle'></label><ul><li><span class='ee-k'>type:</span><span class='ee-v'>PixelType</span></li><li><span class='ee-k'>precision:</span><span class='ee-v'>float</span></li></ul></li></ul></li></ul></li></ul></li></ul></div><script>function toggleHeader() {\n",
              "    const parent = this.parentElement;\n",
              "    parent.className = parent.className === \"ee-open\" ? \"ee-shut\" : \"ee-open\";\n",
              "}\n",
              "\n",
              "for (let c of document.getElementsByClassName(\"ee-toggle\")) {\n",
              "    c.onclick = toggleHeader;\n",
              "}</script></div>"
            ],
            "text/plain": [
              "<ee.image.Image at 0x2bfa0a67290>"
            ]
          },
          "execution_count": 38,
          "metadata": {},
          "output_type": "execute_result"
        }
      ],
      "source": [
        "# Indices Calculation\n",
        "S2pre_id = func_calcIndices(S2pre)\n",
        "S2pos_id = func_calcIndices(S2pos)\n",
        "S2pre_id_m = func_calcIndices(S2pre_mean)\n",
        "S2pos_id_m = func_calcIndices(S2pos_mean)\n",
        "\n",
        "# dNBR\n",
        "S2_idcs1  = S2pre_id.select(\"NBR\").subtract(S2pos_id.select(\"NBR\")).multiply(1000).rename(\"Cl_dNBR\")\n",
        "S2_idcs1  = S2_idcs1.addBands(S2pre_id_m.select(\"NBR\").subtract(S2pos_id_m.select(\"NBR\")).multiply(1000).rename(\"M_dNBR\"))\n",
        "\n",
        "# Other indices\n",
        "S2_idcs1  = S2_idcs1.addBands([S2pre_id.select(\"NBR\").rename(\"preNBR\"), \n",
        "                             S2pos_id.select(\"NBR\").rename(\"posNBR\"),\n",
        "                             S2pre_id_m.select(\"NBR\").rename(\"M_preNBR\"), \n",
        "                             S2pos_id_m.select(\"NBR\").rename(\"M_posNBR\"),])\n",
        "\n",
        "S2_idcs2 = func_calcIndices2(S2_idcs1)\n",
        "S2_idcs2\n"
      ]
    },
    {
      "cell_type": "markdown",
      "metadata": {},
      "source": [
        "## Output image to Google drive folder"
      ]
    },
    {
      "cell_type": "code",
      "execution_count": 65,
      "metadata": {},
      "outputs": [
        {
          "data": {
            "text/html": [
              "\n",
              "            <style>\n",
              "                .geemap-dark {\n",
              "                    --jp-widgets-color: white;\n",
              "                    --jp-widgets-label-color: white;\n",
              "                    --jp-ui-font-color1: white;\n",
              "                    --jp-layout-color2: #454545;\n",
              "                    background-color: #383838;\n",
              "                }\n",
              "\n",
              "                .geemap-dark .jupyter-button {\n",
              "                    --jp-layout-color3: #383838;\n",
              "                }\n",
              "\n",
              "                .geemap-colab {\n",
              "                    background-color: var(--colab-primary-surface-color, white);\n",
              "                }\n",
              "\n",
              "                .geemap-colab .jupyter-button {\n",
              "                    --jp-layout-color3: var(--colab-primary-surface-color, white);\n",
              "                }\n",
              "            </style>\n",
              "            "
            ],
            "text/plain": [
              "<IPython.core.display.HTML object>"
            ]
          },
          "metadata": {},
          "output_type": "display_data"
        },
        {
          "data": {
            "text/plain": [
              "['dNBR', 'M_dNBR', 'RBR', 'RdNBR', 'M_RBR', 'M_RdNBR']"
            ]
          },
          "execution_count": 65,
          "metadata": {},
          "output_type": "execute_result"
        }
      ],
      "source": [
        "# Select needed bands\n",
        "bd = S2_idcs2.bandNames()\n",
        "bd = bd.removeAll(['preNBR', 'posNBR', 'M_preNBR', 'M_posNBR'])\n",
        "S2_idcs = S2_idcs2.select(bd)\n",
        "bd = S2_idcs.bandNames().getInfo()\n",
        "bd"
      ]
    },
    {
      "cell_type": "code",
      "execution_count": 66,
      "metadata": {},
      "outputs": [
        {
          "data": {
            "text/html": [
              "\n",
              "            <style>\n",
              "                .geemap-dark {\n",
              "                    --jp-widgets-color: white;\n",
              "                    --jp-widgets-label-color: white;\n",
              "                    --jp-ui-font-color1: white;\n",
              "                    --jp-layout-color2: #454545;\n",
              "                    background-color: #383838;\n",
              "                }\n",
              "\n",
              "                .geemap-dark .jupyter-button {\n",
              "                    --jp-layout-color3: #383838;\n",
              "                }\n",
              "\n",
              "                .geemap-colab {\n",
              "                    background-color: var(--colab-primary-surface-color, white);\n",
              "                }\n",
              "\n",
              "                .geemap-colab .jupyter-button {\n",
              "                    --jp-layout-color3: var(--colab-primary-surface-color, white);\n",
              "                }\n",
              "            </style>\n",
              "            "
            ],
            "text/plain": [
              "<IPython.core.display.HTML object>"
            ]
          },
          "metadata": {},
          "output_type": "display_data"
        },
        {
          "name": "stdout",
          "output_type": "stream",
          "text": [
            "#-----------------#\n",
            "Exporting for GIF14_Au\n",
            "Band:  dNBR\n",
            "Exporting to Google Drive...\n",
            "Exporting... Please wait\n",
            "...................................................................Export completed.\n",
            "----\n",
            "Band:  M_dNBR\n",
            "Exporting to Google Drive...\n",
            "Exporting... Please wait\n",
            "........................................................................Export completed.\n",
            "----\n",
            "Band:  RBR\n",
            "Exporting to Google Drive...\n",
            "Exporting... Please wait\n",
            "......................................Export completed.\n",
            "----\n",
            "Band:  RdNBR\n",
            "Exporting to Google Drive...\n",
            "Exporting... Please wait\n",
            ".......................................Export completed.\n",
            "----\n",
            "Band:  M_RBR\n",
            "Exporting to Google Drive...\n",
            "Exporting... Please wait\n",
            "..................................................Export completed.\n",
            "----\n",
            "Band:  M_RdNBR\n",
            "Exporting to Google Drive...\n",
            "Exporting... Please wait\n",
            "...................................................Export completed.\n",
            "----\n"
          ]
        }
      ],
      "source": [
        "# Define export parameters\n",
        "print(\"#-----------------#\")\n",
        "print(\"Exporting for\", in_Name)\n",
        "driveFLD = os.path.join('EarthEngineFolder', in_Name, in_Name)\n",
        "tStamp = datetime.now().strftime(\"%d%m%Y_%H%M\")\n",
        "for bd_i in bd:\n",
        "    export_task = ee.batch.Export.image.toDrive(\n",
        "        image=S2_idcs.select(bd_i),\n",
        "        description='sentinel2_fire_indices_image_export',\n",
        "        folder='EarthEngineFolder',  # Folder in your Google Drive\n",
        "        fileNamePrefix='PythonGEE_output--'+in_Name+'--S2_'+bd_i+'--'+tStamp,  # File name prefix\n",
        "        region=clipAOI,  # Define the region to export (could be an area of interest)\n",
        "        scale=10,  # Spatial resolution in meters\n",
        "        fileFormat='GeoTIFF',  # File format\n",
        "        maxPixels=1e12  # Max pixels to export\n",
        "    )\n",
        "\n",
        "    # Start the export task\n",
        "    try:\n",
        "        export_task.start()\n",
        "        print(\"Band: \", bd_i)\n",
        "        print(\"Exporting to Google Drive...\")\n",
        "\n",
        "        # Check the status of the export task\n",
        "        print(\"Exporting... Please wait\")\n",
        "        while export_task.active():\n",
        "            print('.',  end=\"\")\n",
        "            time.sleep(10)\n",
        "\n",
        "        print('Export completed.')\n",
        "\n",
        "    except ee.ee_exception.EEException as e:\n",
        "        print(f\"Error during export: {e}\")\n",
        "    except Exception as e:\n",
        "        print(f\"Unexpected error: {e}\")\n",
        "    print(\"----\")\n"
      ]
    },
    {
      "cell_type": "markdown",
      "metadata": {},
      "source": [
        "## Miscellaneous"
      ]
    },
    {
      "cell_type": "markdown",
      "metadata": {},
      "source": [
        "#### Miscellaneous: Visualize calculated indices"
      ]
    },
    {
      "cell_type": "code",
      "execution_count": null,
      "metadata": {},
      "outputs": [
        {
          "data": {
            "text/html": [
              "\n",
              "            <style>\n",
              "                .geemap-dark {\n",
              "                    --jp-widgets-color: white;\n",
              "                    --jp-widgets-label-color: white;\n",
              "                    --jp-ui-font-color1: white;\n",
              "                    --jp-layout-color2: #454545;\n",
              "                    background-color: #383838;\n",
              "                }\n",
              "\n",
              "                .geemap-dark .jupyter-button {\n",
              "                    --jp-layout-color3: #383838;\n",
              "                }\n",
              "\n",
              "                .geemap-colab {\n",
              "                    background-color: var(--colab-primary-surface-color, white);\n",
              "                }\n",
              "\n",
              "                .geemap-colab .jupyter-button {\n",
              "                    --jp-layout-color3: var(--colab-primary-surface-color, white);\n",
              "                }\n",
              "            </style>\n",
              "            "
            ],
            "text/plain": [
              "<IPython.core.display.HTML object>"
            ]
          },
          "metadata": {},
          "output_type": "display_data"
        },
        {
          "data": {
            "application/vnd.jupyter.widget-view+json": {
              "model_id": "e8a2a9a7d49840b2ad85eb3283481ee6",
              "version_major": 2,
              "version_minor": 0
            },
            "text/plain": [
              "Map(center=[-37.3684, 148.3462], controls=(WidgetControl(options=['position', 'transparent_bg'], widget=Search…"
            ]
          },
          "execution_count": 56,
          "metadata": {},
          "output_type": "execute_result"
        }
      ],
      "source": [
        "# Produce Severity classes\n",
        "S2_dNBR = S2_idcs.select(\"dNBR\")\n",
        "S2_severity = ee.Image(1) \\\n",
        ".where(S2_dNBR.gt(-500).And(S2_dNBR.lte(-251)), 1) \\\n",
        ".where(S2_dNBR.gt(-251).And(S2_dNBR.lte(-101)), 2) \\\n",
        ".where(S2_dNBR.gt(-101).And(S2_dNBR.lte(99)), 3) \\\n",
        ".where(S2_dNBR.gt(99).And(S2_dNBR.lte(269)), 4) \\\n",
        ".where(S2_dNBR.gt(269).And(S2_dNBR.lte(439)), 5) \\\n",
        ".where(S2_dNBR.gt(439).And(S2_dNBR.lte(659)), 6) \\\n",
        ".where(S2_dNBR.gt(660).And(S2_dNBR.lte(1300)), 7) \\\n",
        ".clip(clipAOI)\n",
        "# # ------------------------------------------------ # #\n",
        "\n",
        "\n",
        "\n",
        "# # ------------------------------------------------ # #\n",
        "# # NBR fire severity color:https:#un-spider.Org/advisory-support/recommended-practices/recommended-practice-burn-severity/Step-By-Step/RStudio\n",
        "dnbrPal = [\"556B2F\",\"6E8B3D\",\"32CD32\", \"EEEE00\", \"EE7600\", \"FF0000\", \"A020F0\"]\n",
        "# # NDVI palette https:#custom-scripts.sentinel-hub.com/sentinel-2/ndvi/\n",
        "ndviPal = [\"0c0c0c\", \"eaeaea\", \"ccc682\", \"91bf51\", \"70a33f\", \"4f892d\", \"306d1c\", \"0f540a\", \"004400\"]\n",
        "# # name of the legend\n",
        "dnbrNames = [\"Enhanced Regrowth, High\", \"Enhanced Regrowth, Low\", \"Unburned\", \"Low Severity\", \"Moderate-low Severity\", \"Moderate-high Severity\", \"High Severity\"]\n",
        "\n",
        "visNBR = {'bands': \"NBR\", 'max':1, 'min': -1, 'palette': [\"green\", \"red\"]}\n",
        "\n",
        "visNDVI = {\n",
        "    'bands': \"NDVI\",\n",
        "    'max': 1,\n",
        "    'min': -1,\n",
        "    'palette': ndviPal\n",
        "}\n",
        "visdNBR = {\n",
        "    'max': 1300,\n",
        "    'min': -500,\n",
        "    'palette': dnbrPal\n",
        "}\n",
        "visSevere = {\n",
        "    'max': 7,\n",
        "    'min': 1,\n",
        "    'palette': dnbrPal\n",
        "}\n",
        "\n",
        "# m.addLayer(S2pre_id, visNDVI, \"NDVI_pre\")\n",
        "# m.addLayer(S2pos_id, visNDVI, \"NDVI_pos\")\n",
        "Map.addLayer(S2_dNBR.clip(clipAOI), visdNBR, \"Cl_dNBR\")\n",
        "Map.addLayer(S2_severity.clip(clipAOI), visSevere, \"dNBR Severity\")\n",
        "# # ------------------------------------------------ # #\n",
        "\n",
        "Map\n",
        "\n",
        "\n"
      ]
    },
    {
      "cell_type": "markdown",
      "metadata": {},
      "source": [
        "#### Miscellaneous: Counting pixels"
      ]
    },
    {
      "cell_type": "code",
      "execution_count": null,
      "metadata": {},
      "outputs": [
        {
          "data": {
            "text/html": [
              "\n",
              "            <style>\n",
              "                .geemap-dark {\n",
              "                    --jp-widgets-color: white;\n",
              "                    --jp-widgets-label-color: white;\n",
              "                    --jp-ui-font-color1: white;\n",
              "                    --jp-layout-color2: #454545;\n",
              "                    background-color: #383838;\n",
              "                }\n",
              "\n",
              "                .geemap-dark .jupyter-button {\n",
              "                    --jp-layout-color3: #383838;\n",
              "                }\n",
              "\n",
              "                .geemap-colab {\n",
              "                    background-color: var(--colab-primary-surface-color, white);\n",
              "                }\n",
              "\n",
              "                .geemap-colab .jupyter-button {\n",
              "                    --jp-layout-color3: var(--colab-primary-surface-color, white);\n",
              "                }\n",
              "            </style>\n",
              "            "
            ],
            "text/plain": [
              "<IPython.core.display.HTML object>"
            ]
          },
          "metadata": {},
          "output_type": "display_data"
        },
        {
          "name": "stdout",
          "output_type": "stream",
          "text": [
            "Pixel count for B4 band: {'dNBR': 113379278}\n"
          ]
        }
      ],
      "source": [
        "# pixel_count = S2_dNBR.select('dNBR').reduceRegion(\n",
        "#     reducer=ee.Reducer.count(),\n",
        "#     geometry=clipAOI,  # Use the image's geometry as the region\n",
        "#     scale=10,  # Spatial resolution in meters\n",
        "#     maxPixels=1e10  # Maximum number of pixels to process\n",
        "# )\n",
        "\n",
        "# # Print the pixel count\n",
        "# print('Pixel count for B4 band:', pixel_count.getInfo())"
      ]
    }
  ],
  "metadata": {
    "anaconda-cloud": {},
    "kernelspec": {
      "display_name": "mapWork2pip",
      "language": "python",
      "name": "python3"
    },
    "language_info": {
      "codemirror_mode": {
        "name": "ipython",
        "version": 3
      },
      "file_extension": ".py",
      "mimetype": "text/x-python",
      "name": "python",
      "nbconvert_exporter": "python",
      "pygments_lexer": "ipython3",
      "version": "3.12.7"
    }
  },
  "nbformat": 4,
  "nbformat_minor": 4
}
