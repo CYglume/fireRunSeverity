{
  "cells": [
    {
      "cell_type": "markdown",
      "metadata": {},
      "source": [
        "## Import libraries"
      ]
    },
    {
      "cell_type": "code",
      "execution_count": 168,
      "metadata": {},
      "outputs": [
        {
          "data": {
            "text/html": [
              "\n",
              "            <style>\n",
              "                .geemap-dark {\n",
              "                    --jp-widgets-color: white;\n",
              "                    --jp-widgets-label-color: white;\n",
              "                    --jp-ui-font-color1: white;\n",
              "                    --jp-layout-color2: #454545;\n",
              "                    background-color: #383838;\n",
              "                }\n",
              "\n",
              "                .geemap-dark .jupyter-button {\n",
              "                    --jp-layout-color3: #383838;\n",
              "                }\n",
              "\n",
              "                .geemap-colab {\n",
              "                    background-color: var(--colab-primary-surface-color, white);\n",
              "                }\n",
              "\n",
              "                .geemap-colab .jupyter-button {\n",
              "                    --jp-layout-color3: var(--colab-primary-surface-color, white);\n",
              "                }\n",
              "            </style>\n",
              "            "
            ],
            "text/plain": [
              "<IPython.core.display.HTML object>"
            ]
          },
          "metadata": {},
          "output_type": "display_data"
        }
      ],
      "source": [
        "import ee\n",
        "import geemap\n",
        "import os, re, json, time\n",
        "import geopandas as gpd\n",
        "from datetime import datetime, timedelta\n",
        "from shapely.geometry import Polygon, mapping"
      ]
    },
    {
      "cell_type": "markdown",
      "metadata": {},
      "source": [
        "## Start Connection with Google Earth Engine"
      ]
    },
    {
      "cell_type": "code",
      "execution_count": null,
      "metadata": {},
      "outputs": [],
      "source": [
        "ee.Authenticate(force=True)\n",
        "ee.Initialize()\n",
        "print(ee.String('Hello from the Earth Engine servers!').getInfo())"
      ]
    },
    {
      "cell_type": "markdown",
      "metadata": {},
      "source": [
        "## Set up environmental variables"
      ]
    },
    {
      "cell_type": "code",
      "execution_count": 49,
      "metadata": {},
      "outputs": [
        {
          "data": {
            "text/html": [
              "\n",
              "            <style>\n",
              "                .geemap-dark {\n",
              "                    --jp-widgets-color: white;\n",
              "                    --jp-widgets-label-color: white;\n",
              "                    --jp-ui-font-color1: white;\n",
              "                    --jp-layout-color2: #454545;\n",
              "                    background-color: #383838;\n",
              "                }\n",
              "\n",
              "                .geemap-dark .jupyter-button {\n",
              "                    --jp-layout-color3: #383838;\n",
              "                }\n",
              "\n",
              "                .geemap-colab {\n",
              "                    background-color: var(--colab-primary-surface-color, white);\n",
              "                }\n",
              "\n",
              "                .geemap-colab .jupyter-button {\n",
              "                    --jp-layout-color3: var(--colab-primary-surface-color, white);\n",
              "                }\n",
              "            </style>\n",
              "            "
            ],
            "text/plain": [
              "<IPython.core.display.HTML object>"
            ]
          },
          "metadata": {},
          "output_type": "display_data"
        },
        {
          "data": {
            "text/plain": [
              "'C:\\\\Users\\\\user\\\\OneDrive - University of Eastern Finland\\\\CourseLleida\\\\_Master Thesis\\\\fireRunSeverity'"
            ]
          },
          "execution_count": 49,
          "metadata": {},
          "output_type": "execute_result"
        }
      ],
      "source": [
        "root_folder = os.getcwd().split('\\\\')\n",
        "root_folder = root_folder[1:-2]\n",
        "if root_folder[-1] != 'fireRunSeverity':\n",
        "    print(\"Didn't get correct root folder!\")\n",
        "    print(root_folder)\n",
        "root_folder = os.path.join('C:\\\\', *root_folder)\n",
        "\n",
        "in_Name = 'GIF14_Au'\n",
        "root_folder\n"
      ]
    },
    {
      "cell_type": "markdown",
      "metadata": {},
      "source": [
        "## Load EE side data"
      ]
    },
    {
      "cell_type": "code",
      "execution_count": 6,
      "metadata": {},
      "outputs": [
        {
          "data": {
            "text/html": [
              "\n",
              "            <style>\n",
              "                .geemap-dark {\n",
              "                    --jp-widgets-color: white;\n",
              "                    --jp-widgets-label-color: white;\n",
              "                    --jp-ui-font-color1: white;\n",
              "                    --jp-layout-color2: #454545;\n",
              "                    background-color: #383838;\n",
              "                }\n",
              "\n",
              "                .geemap-dark .jupyter-button {\n",
              "                    --jp-layout-color3: #383838;\n",
              "                }\n",
              "\n",
              "                .geemap-colab {\n",
              "                    background-color: var(--colab-primary-surface-color, white);\n",
              "                }\n",
              "\n",
              "                .geemap-colab .jupyter-button {\n",
              "                    --jp-layout-color3: var(--colab-primary-surface-color, white);\n",
              "                }\n",
              "            </style>\n",
              "            "
            ],
            "text/plain": [
              "<IPython.core.display.HTML object>"
            ]
          },
          "metadata": {},
          "output_type": "display_data"
        }
      ],
      "source": [
        "# Add Earth Engine dataset\n",
        "S2_harmon = ee.ImageCollection(\"COPERNICUS/S2_SR_HARMONIZED\")\n",
        "Map = geemap.Map(center=[40, -100], zoom=4)\n",
        "Map.setCenter(148.3462, -37.3684,9)\n"
      ]
    },
    {
      "cell_type": "markdown",
      "metadata": {},
      "source": [
        "## Load Local side data"
      ]
    },
    {
      "cell_type": "code",
      "execution_count": 87,
      "metadata": {},
      "outputs": [
        {
          "data": {
            "text/html": [
              "\n",
              "            <style>\n",
              "                .geemap-dark {\n",
              "                    --jp-widgets-color: white;\n",
              "                    --jp-widgets-label-color: white;\n",
              "                    --jp-ui-font-color1: white;\n",
              "                    --jp-layout-color2: #454545;\n",
              "                    background-color: #383838;\n",
              "                }\n",
              "\n",
              "                .geemap-dark .jupyter-button {\n",
              "                    --jp-layout-color3: #383838;\n",
              "                }\n",
              "\n",
              "                .geemap-colab {\n",
              "                    background-color: var(--colab-primary-surface-color, white);\n",
              "                }\n",
              "\n",
              "                .geemap-colab .jupyter-button {\n",
              "                    --jp-layout-color3: var(--colab-primary-surface-color, white);\n",
              "                }\n",
              "            </style>\n",
              "            "
            ],
            "text/plain": [
              "<IPython.core.display.HTML object>"
            ]
          },
          "metadata": {},
          "output_type": "display_data"
        },
        {
          "name": "stdout",
          "output_type": "stream",
          "text": [
            "GIF14_32755_multipart.shp\n",
            "EPSG:32755\n",
            "{'type': 'Polygon', 'coordinates': (((148.797548490504, -37.78877807241547), (148.797548490504, -37.04608874283253), (150.0295287036503, -37.04608874283253), (150.0295287036503, -37.78877807241547), (148.797548490504, -37.78877807241547)),)}\n"
          ]
        }
      ],
      "source": [
        "dataFLD = os.path.join(root_folder, 'data', 'fireruns', in_Name)\n",
        "inFLD = os.path.join(dataFLD, 'input')\n",
        "shpIn  = []\n",
        "for f in os.scandir(inFLD):\n",
        "    if re.search(r\".shp$\", f.name):\n",
        "        print(f.name)\n",
        "        shpIn.append(f)\n",
        "\n",
        "if len(shpIn) != 1:\n",
        "    print(\"Check No. of shp file not equal to 1!\")\n",
        "else:\n",
        "    shpIn = shpIn[0]\n",
        "\n",
        "# Read Shp file\n",
        "shpGPD = gpd.read_file(os.path.join(inFLD, shpIn))\n",
        "print(shpGPD.crs)\n",
        "shp_reproj = shpGPD.to_crs(\"EPSG:4326\")\n",
        "# Get the bounds\n",
        "minx, miny, maxx, maxy = shp_reproj.total_bounds\n",
        "# Create a polygon of bounds\n",
        "bounds_polygon = Polygon([(minx, miny), (minx, maxy), (maxx, maxy), (maxx, miny), (minx, miny)])\n",
        "# Convert the polygon to GeoJSON\n",
        "json_polygon = mapping(bounds_polygon)\n",
        "print(json_polygon)"
      ]
    },
    {
      "cell_type": "code",
      "execution_count": 133,
      "metadata": {},
      "outputs": [
        {
          "data": {
            "text/html": [
              "\n",
              "            <style>\n",
              "                .geemap-dark {\n",
              "                    --jp-widgets-color: white;\n",
              "                    --jp-widgets-label-color: white;\n",
              "                    --jp-ui-font-color1: white;\n",
              "                    --jp-layout-color2: #454545;\n",
              "                    background-color: #383838;\n",
              "                }\n",
              "\n",
              "                .geemap-dark .jupyter-button {\n",
              "                    --jp-layout-color3: #383838;\n",
              "                }\n",
              "\n",
              "                .geemap-colab {\n",
              "                    background-color: var(--colab-primary-surface-color, white);\n",
              "                }\n",
              "\n",
              "                .geemap-colab .jupyter-button {\n",
              "                    --jp-layout-color3: var(--colab-primary-surface-color, white);\n",
              "                }\n",
              "            </style>\n",
              "            "
            ],
            "text/plain": [
              "<IPython.core.display.HTML object>"
            ]
          },
          "metadata": {},
          "output_type": "display_data"
        },
        {
          "name": "stdout",
          "output_type": "stream",
          "text": [
            "['2019/12/30_1400', '2019/12/30_0100', '2020/1/01_0100', '2020/1/02_1400', '2020/1/03_1400', '2020/1/01_1400', '2020/1/01_1400', '2020/1/02_0100', '2020/1/02_0100', '2020/1/01_1400', '2020/1/01_1400', '2020/1/02_1400', '2020/1/03_1400', '2020/1/03_1400', '2020/1/01_0100', '2020/1/03_1400', '2020/1/01_1400', '2020/1/02_1400', '2020/1/02_1400', '2020/1/01_0100', '2020/1/03_0100', '2020/1/02_1400', '2020/1/01_1400', '2020/1/04_1400', '2020/1/04_0100', '2020/1/05_0100', '2020/1/12_0100', '2020/1/02_0100', '2020/1/01_1400', '2020/1/04_0100', '2020/1/04_1400', '2020/1/05_0100', '2020/1/12_1400', '2020/1/12_1400', '2020/1/04_1400', '2020/1/15_0100', '2020/1/15_0100', '2020/1/13_1400', '2020/1/13_0100', '2020/1/12_1400', '2020/1/13_1400', '2020/1/13_1400', '2020/1/11_1400', '2020/1/11_1400', '2020/1/11_1400', '2020/1/13_0100', '2020/1/14_0100', '2020/1/11_1400', '2020/1/15_0100', '2020/1/12_1400', '2020/1/13_0100', '2020/1/13_1400', '2020/1/13_0100', '2020/1/13_0100', '2020/1/14_0100', '2020/1/13_1400', '2020/1/12_1400', '2020/1/14_0100', '2020/1/14_0100', '2020/1/12_1400', '2020/1/05_0100', '2020/1/12_0100', '2020/1/13_0100', '2020/1/13_1400', '2020/1/12_1400', '2020/1/12_1400', '2020/1/13_1400', '2020/1/12_1400', '2020/1/15_0100', '2020/1/13_1400', '2020/1/05_0100', '2020/1/05_0100', '2020/1/06_0100', '2020/1/04_1400', '2020/1/11_1400', '2020/1/05_0100', '2020/1/13_0100', '2020/1/13_0100', '2020/1/13_1400', '2020/1/04_1400', '2020/1/04_0100', '2020/1/11_1400', '2020/1/24_1400', '2020/1/24_1400', '2020/2/05_1400', '2020/2/07_1400', '2020/1/31_1400', '2020/1/31_1400', '2020/2/03_0100', '2020/2/01_0100', '2020/2/03_0100', '2020/2/04_0100', '2020/1/04_1400', '2020/1/01_0100', '2020/1/03_1400']\n",
            "[datetime.datetime(2019, 12, 30, 1, 0), datetime.datetime(2019, 12, 30, 14, 0), datetime.datetime(2020, 1, 1, 1, 0), datetime.datetime(2020, 1, 1, 1, 0), datetime.datetime(2020, 1, 1, 1, 0), datetime.datetime(2020, 1, 1, 1, 0), datetime.datetime(2020, 1, 1, 14, 0), datetime.datetime(2020, 1, 1, 14, 0), datetime.datetime(2020, 1, 1, 14, 0), datetime.datetime(2020, 1, 1, 14, 0), datetime.datetime(2020, 1, 1, 14, 0), datetime.datetime(2020, 1, 1, 14, 0), datetime.datetime(2020, 1, 1, 14, 0), datetime.datetime(2020, 1, 2, 1, 0), datetime.datetime(2020, 1, 2, 1, 0), datetime.datetime(2020, 1, 2, 1, 0), datetime.datetime(2020, 1, 2, 14, 0), datetime.datetime(2020, 1, 2, 14, 0), datetime.datetime(2020, 1, 2, 14, 0), datetime.datetime(2020, 1, 2, 14, 0), datetime.datetime(2020, 1, 2, 14, 0), datetime.datetime(2020, 1, 3, 1, 0), datetime.datetime(2020, 1, 3, 14, 0), datetime.datetime(2020, 1, 3, 14, 0), datetime.datetime(2020, 1, 3, 14, 0), datetime.datetime(2020, 1, 3, 14, 0), datetime.datetime(2020, 1, 3, 14, 0), datetime.datetime(2020, 1, 4, 1, 0), datetime.datetime(2020, 1, 4, 1, 0), datetime.datetime(2020, 1, 4, 1, 0), datetime.datetime(2020, 1, 4, 14, 0), datetime.datetime(2020, 1, 4, 14, 0), datetime.datetime(2020, 1, 4, 14, 0), datetime.datetime(2020, 1, 4, 14, 0), datetime.datetime(2020, 1, 4, 14, 0), datetime.datetime(2020, 1, 4, 14, 0), datetime.datetime(2020, 1, 5, 1, 0), datetime.datetime(2020, 1, 5, 1, 0), datetime.datetime(2020, 1, 5, 1, 0), datetime.datetime(2020, 1, 5, 1, 0), datetime.datetime(2020, 1, 5, 1, 0), datetime.datetime(2020, 1, 5, 1, 0), datetime.datetime(2020, 1, 6, 1, 0), datetime.datetime(2020, 1, 11, 14, 0), datetime.datetime(2020, 1, 11, 14, 0), datetime.datetime(2020, 1, 11, 14, 0), datetime.datetime(2020, 1, 11, 14, 0), datetime.datetime(2020, 1, 11, 14, 0), datetime.datetime(2020, 1, 11, 14, 0), datetime.datetime(2020, 1, 12, 1, 0), datetime.datetime(2020, 1, 12, 1, 0), datetime.datetime(2020, 1, 12, 14, 0), datetime.datetime(2020, 1, 12, 14, 0), datetime.datetime(2020, 1, 12, 14, 0), datetime.datetime(2020, 1, 12, 14, 0), datetime.datetime(2020, 1, 12, 14, 0), datetime.datetime(2020, 1, 12, 14, 0), datetime.datetime(2020, 1, 12, 14, 0), datetime.datetime(2020, 1, 12, 14, 0), datetime.datetime(2020, 1, 12, 14, 0), datetime.datetime(2020, 1, 13, 1, 0), datetime.datetime(2020, 1, 13, 1, 0), datetime.datetime(2020, 1, 13, 1, 0), datetime.datetime(2020, 1, 13, 1, 0), datetime.datetime(2020, 1, 13, 1, 0), datetime.datetime(2020, 1, 13, 1, 0), datetime.datetime(2020, 1, 13, 1, 0), datetime.datetime(2020, 1, 13, 1, 0), datetime.datetime(2020, 1, 13, 14, 0), datetime.datetime(2020, 1, 13, 14, 0), datetime.datetime(2020, 1, 13, 14, 0), datetime.datetime(2020, 1, 13, 14, 0), datetime.datetime(2020, 1, 13, 14, 0), datetime.datetime(2020, 1, 13, 14, 0), datetime.datetime(2020, 1, 13, 14, 0), datetime.datetime(2020, 1, 13, 14, 0), datetime.datetime(2020, 1, 13, 14, 0), datetime.datetime(2020, 1, 14, 1, 0), datetime.datetime(2020, 1, 14, 1, 0), datetime.datetime(2020, 1, 14, 1, 0), datetime.datetime(2020, 1, 14, 1, 0), datetime.datetime(2020, 1, 15, 1, 0), datetime.datetime(2020, 1, 15, 1, 0), datetime.datetime(2020, 1, 15, 1, 0), datetime.datetime(2020, 1, 15, 1, 0), datetime.datetime(2020, 1, 24, 14, 0), datetime.datetime(2020, 1, 24, 14, 0), datetime.datetime(2020, 1, 31, 14, 0), datetime.datetime(2020, 1, 31, 14, 0), datetime.datetime(2020, 2, 1, 1, 0), datetime.datetime(2020, 2, 3, 1, 0), datetime.datetime(2020, 2, 3, 1, 0), datetime.datetime(2020, 2, 4, 1, 0), datetime.datetime(2020, 2, 5, 14, 0), datetime.datetime(2020, 2, 7, 14, 0)]\n",
            "Fire start date and end date:\n",
            "2019-12-30 2020-02-07\n",
            "Pre- and Post- fire periods selected for satellite images:\n",
            "['2019-09-01', '2019-12-29'] ['2020-02-08', '2020-06-06']\n"
          ]
        }
      ],
      "source": [
        "# Get date of data\n",
        "fire_dtstring = list(shpGPD['FeHo'])\n",
        "print(fire_dtstring)\n",
        "fire_dtsList  = [datetime.strptime(dt, \"%Y/%m/%d_%H%M\") for dt in fire_dtstring]\n",
        "print(sorted(fire_dtsList))\n",
        "dateSt = min(fire_dtsList).date()\n",
        "dateEd = max(fire_dtsList).date()\n",
        "print(\"Fire start date and end date:\")\n",
        "print(dateSt, dateEd)\n",
        "\n",
        "\n",
        "# Compute the date period for retrieving Satellite img\n",
        "prefire_date  = [dateSt - timedelta(days = 4*30), dateSt - timedelta(days = 1)]\n",
        "postfire_date = [dateEd + timedelta(days = 1),    dateEd + timedelta(days = 4*30)]\n",
        "\n",
        "prefire_date = [d.strftime(\"%Y-%m-%d\") for d in prefire_date]\n",
        "postfire_date = [d.strftime(\"%Y-%m-%d\") for d in postfire_date]\n",
        "\n",
        "print(\"Pre- and Post- fire periods selected for satellite images:\")\n",
        "print(prefire_date, postfire_date)"
      ]
    },
    {
      "cell_type": "markdown",
      "metadata": {},
      "source": [
        "## Upload data to EE"
      ]
    },
    {
      "cell_type": "code",
      "execution_count": 93,
      "metadata": {},
      "outputs": [
        {
          "data": {
            "text/html": [
              "\n",
              "            <style>\n",
              "                .geemap-dark {\n",
              "                    --jp-widgets-color: white;\n",
              "                    --jp-widgets-label-color: white;\n",
              "                    --jp-ui-font-color1: white;\n",
              "                    --jp-layout-color2: #454545;\n",
              "                    background-color: #383838;\n",
              "                }\n",
              "\n",
              "                .geemap-dark .jupyter-button {\n",
              "                    --jp-layout-color3: #383838;\n",
              "                }\n",
              "\n",
              "                .geemap-colab {\n",
              "                    background-color: var(--colab-primary-surface-color, white);\n",
              "                }\n",
              "\n",
              "                .geemap-colab .jupyter-button {\n",
              "                    --jp-layout-color3: var(--colab-primary-surface-color, white);\n",
              "                }\n",
              "            </style>\n",
              "            "
            ],
            "text/plain": [
              "<IPython.core.display.HTML object>"
            ]
          },
          "metadata": {},
          "output_type": "display_data"
        },
        {
          "name": "stdout",
          "output_type": "stream",
          "text": [
            "{'type': 'Polygon', 'coordinates': [[[148.797548490504, -37.78877807241547], [150.0295287036503, -37.78877807241547], [150.0295287036503, -37.04608874283253], [148.797548490504, -37.04608874283253], [148.797548490504, -37.78877807241547]]]}\n"
          ]
        }
      ],
      "source": [
        "clipAOI = ee.Geometry.Polygon(json_polygon[\"coordinates\"])\n",
        "clipAOI2 = clipAOI.buffer(50000)\n",
        "print(clipAOI.getInfo())"
      ]
    },
    {
      "cell_type": "code",
      "execution_count": 145,
      "metadata": {},
      "outputs": [
        {
          "data": {
            "text/html": [
              "\n",
              "            <style>\n",
              "                .geemap-dark {\n",
              "                    --jp-widgets-color: white;\n",
              "                    --jp-widgets-label-color: white;\n",
              "                    --jp-ui-font-color1: white;\n",
              "                    --jp-layout-color2: #454545;\n",
              "                    background-color: #383838;\n",
              "                }\n",
              "\n",
              "                .geemap-dark .jupyter-button {\n",
              "                    --jp-layout-color3: #383838;\n",
              "                }\n",
              "\n",
              "                .geemap-colab {\n",
              "                    background-color: var(--colab-primary-surface-color, white);\n",
              "                }\n",
              "\n",
              "                .geemap-colab .jupyter-button {\n",
              "                    --jp-layout-color3: var(--colab-primary-surface-color, white);\n",
              "                }\n",
              "            </style>\n",
              "            "
            ],
            "text/plain": [
              "<IPython.core.display.HTML object>"
            ]
          },
          "metadata": {},
          "output_type": "display_data"
        }
      ],
      "source": [
        "Map.addLayer(clipAOI2, {'color': \"blue\"}, \"Input SHP range\")"
      ]
    },
    {
      "cell_type": "markdown",
      "metadata": {},
      "source": [
        "## (GEE) Process satellite"
      ]
    },
    {
      "cell_type": "code",
      "execution_count": 135,
      "metadata": {},
      "outputs": [
        {
          "data": {
            "text/html": [
              "\n",
              "            <style>\n",
              "                .geemap-dark {\n",
              "                    --jp-widgets-color: white;\n",
              "                    --jp-widgets-label-color: white;\n",
              "                    --jp-ui-font-color1: white;\n",
              "                    --jp-layout-color2: #454545;\n",
              "                    background-color: #383838;\n",
              "                }\n",
              "\n",
              "                .geemap-dark .jupyter-button {\n",
              "                    --jp-layout-color3: #383838;\n",
              "                }\n",
              "\n",
              "                .geemap-colab {\n",
              "                    background-color: var(--colab-primary-surface-color, white);\n",
              "                }\n",
              "\n",
              "                .geemap-colab .jupyter-button {\n",
              "                    --jp-layout-color3: var(--colab-primary-surface-color, white);\n",
              "                }\n",
              "            </style>\n",
              "            "
            ],
            "text/plain": [
              "<IPython.core.display.HTML object>"
            ]
          },
          "metadata": {},
          "output_type": "display_data"
        }
      ],
      "source": [
        "# filter satellite data\n",
        "bandList = [\"B.\", \"B..\", \"QA60\", \"MSK_CLDPRB\"]\n",
        "S2_pre_select = S2_harmon.filterDate(prefire_date[0], prefire_date[1]) \\\n",
        ".filterBounds(clipAOI2).select(bandList)\n",
        "# .filter(ee.Filter.lt('CLOUDY_PIXEL_PERCENTAGE', 5))\n",
        "\n",
        "S2_pos_select = S2_harmon.filterDate(postfire_date[0], postfire_date[1]) \\\n",
        ".filterBounds(clipAOI2).select(bandList)\n",
        "# .filter(ee.Filter.lt('CLOUDY_PIXEL_PERCENTAGE', 5))"
      ]
    },
    {
      "cell_type": "code",
      "execution_count": 146,
      "metadata": {},
      "outputs": [
        {
          "data": {
            "text/html": [
              "\n",
              "            <style>\n",
              "                .geemap-dark {\n",
              "                    --jp-widgets-color: white;\n",
              "                    --jp-widgets-label-color: white;\n",
              "                    --jp-ui-font-color1: white;\n",
              "                    --jp-layout-color2: #454545;\n",
              "                    background-color: #383838;\n",
              "                }\n",
              "\n",
              "                .geemap-dark .jupyter-button {\n",
              "                    --jp-layout-color3: #383838;\n",
              "                }\n",
              "\n",
              "                .geemap-colab {\n",
              "                    background-color: var(--colab-primary-surface-color, white);\n",
              "                }\n",
              "\n",
              "                .geemap-colab .jupyter-button {\n",
              "                    --jp-layout-color3: var(--colab-primary-surface-color, white);\n",
              "                }\n",
              "            </style>\n",
              "            "
            ],
            "text/plain": [
              "<IPython.core.display.HTML object>"
            ]
          },
          "metadata": {},
          "output_type": "display_data"
        }
      ],
      "source": [
        "# Functions for Computing Necessary indices\n",
        "def func_maskClouds(image):\n",
        "    imgCLP = image.select(\"MSK_CLDPRB\")\n",
        "    mskCLP = imgCLP.lt(10);  \n",
        "    qa = image.select(\"QA60\")\n",
        "    Clouds = qa.bitwiseAnd(1 << 10).eq(0);  \n",
        "    Cirrus = qa.bitwiseAnd(1 << 11).eq(0); \n",
        "    mask = Clouds.And(Cirrus).And(mskCLP)\n",
        "    return image.updateMask(mask)\n",
        "\n",
        "def func_rescale(image):\n",
        "    refl = image.multiply(0.0001)\n",
        "    return refl.copyProperties(image, [\"system:time_start\"])\n",
        "\n",
        "def func_calcIndices (image):\n",
        "    NBR = image.normalizedDifference([\"B8\", \"B12\"]).rename(\"NBR\")\n",
        "    NDVI = image.normalizedDifference([\"B8\", \"B4\"]).rename(\"NDVI\")\n",
        "    return image.addBands([NBR, NDVI])\n",
        "\n",
        "\n"
      ]
    },
    {
      "cell_type": "code",
      "execution_count": 140,
      "metadata": {},
      "outputs": [
        {
          "data": {
            "text/html": [
              "\n",
              "            <style>\n",
              "                .geemap-dark {\n",
              "                    --jp-widgets-color: white;\n",
              "                    --jp-widgets-label-color: white;\n",
              "                    --jp-ui-font-color1: white;\n",
              "                    --jp-layout-color2: #454545;\n",
              "                    background-color: #383838;\n",
              "                }\n",
              "\n",
              "                .geemap-dark .jupyter-button {\n",
              "                    --jp-layout-color3: #383838;\n",
              "                }\n",
              "\n",
              "                .geemap-colab {\n",
              "                    background-color: var(--colab-primary-surface-color, white);\n",
              "                }\n",
              "\n",
              "                .geemap-colab .jupyter-button {\n",
              "                    --jp-layout-color3: var(--colab-primary-surface-color, white);\n",
              "                }\n",
              "            </style>\n",
              "            "
            ],
            "text/plain": [
              "<IPython.core.display.HTML object>"
            ]
          },
          "metadata": {},
          "output_type": "display_data"
        }
      ],
      "source": [
        "S2pre = S2_pre_select.map(func_maskClouds).map(func_rescale) \\\n",
        ".sort('system:time_start') \\\n",
        ".mosaic(); \n",
        "\n",
        "S2pos = S2_pos_select.map(func_maskClouds).map(func_rescale) \\\n",
        ".sort('system:time_start', False) \\\n",
        ".mosaic(); \n",
        "# print(json.dumps(S2pre.getInfo(), indent=4))\n"
      ]
    },
    {
      "cell_type": "code",
      "execution_count": 144,
      "metadata": {},
      "outputs": [
        {
          "data": {
            "text/html": [
              "\n",
              "            <style>\n",
              "                .geemap-dark {\n",
              "                    --jp-widgets-color: white;\n",
              "                    --jp-widgets-label-color: white;\n",
              "                    --jp-ui-font-color1: white;\n",
              "                    --jp-layout-color2: #454545;\n",
              "                    background-color: #383838;\n",
              "                }\n",
              "\n",
              "                .geemap-dark .jupyter-button {\n",
              "                    --jp-layout-color3: #383838;\n",
              "                }\n",
              "\n",
              "                .geemap-colab {\n",
              "                    background-color: var(--colab-primary-surface-color, white);\n",
              "                }\n",
              "\n",
              "                .geemap-colab .jupyter-button {\n",
              "                    --jp-layout-color3: var(--colab-primary-surface-color, white);\n",
              "                }\n",
              "            </style>\n",
              "            "
            ],
            "text/plain": [
              "<IPython.core.display.HTML object>"
            ]
          },
          "metadata": {},
          "output_type": "display_data"
        }
      ],
      "source": [
        "# Visualization\n",
        "visP = {'bands': [\"B4\",  \"B3\",  \"B2\"], 'max': 0.3}\n",
        "Map.remove(clipAOI2)\n",
        "Map.addLayer(S2pre.clip(clipAOI), visP, \"S2 pre fire\")\n",
        "Map.addLayer(S2pos.clip(clipAOI), visP, \"S2 after fire\")"
      ]
    },
    {
      "cell_type": "code",
      "execution_count": 147,
      "metadata": {},
      "outputs": [
        {
          "data": {
            "text/html": [
              "\n",
              "            <style>\n",
              "                .geemap-dark {\n",
              "                    --jp-widgets-color: white;\n",
              "                    --jp-widgets-label-color: white;\n",
              "                    --jp-ui-font-color1: white;\n",
              "                    --jp-layout-color2: #454545;\n",
              "                    background-color: #383838;\n",
              "                }\n",
              "\n",
              "                .geemap-dark .jupyter-button {\n",
              "                    --jp-layout-color3: #383838;\n",
              "                }\n",
              "\n",
              "                .geemap-colab {\n",
              "                    background-color: var(--colab-primary-surface-color, white);\n",
              "                }\n",
              "\n",
              "                .geemap-colab .jupyter-button {\n",
              "                    --jp-layout-color3: var(--colab-primary-surface-color, white);\n",
              "                }\n",
              "            </style>\n",
              "            "
            ],
            "text/plain": [
              "<IPython.core.display.HTML object>"
            ]
          },
          "metadata": {},
          "output_type": "display_data"
        },
        {
          "name": "stdout",
          "output_type": "stream",
          "text": [
            "dNBR {'type': 'Image', 'bands': [{'id': 'dNBR', 'data_type': {'type': 'PixelType', 'precision': 'float', 'min': -2000, 'max': 2000}, 'crs': 'EPSG:4326', 'crs_transform': [1, 0, 0, 0, 1, 0]}]}\n"
          ]
        }
      ],
      "source": [
        "# Indices Calculation\n",
        "S2pre_id = func_calcIndices(S2pre)\n",
        "S2pos_id = func_calcIndices(S2pos)\n",
        "S2_dNBR  = S2pre_id.select(\"NBR\").subtract(S2pos_id.select(\"NBR\")).multiply(1000).rename(\"dNBR\")\n",
        "print(\"dNBR\",S2_dNBR.getInfo())"
      ]
    },
    {
      "cell_type": "code",
      "execution_count": 155,
      "metadata": {},
      "outputs": [
        {
          "data": {
            "text/html": [
              "\n",
              "            <style>\n",
              "                .geemap-dark {\n",
              "                    --jp-widgets-color: white;\n",
              "                    --jp-widgets-label-color: white;\n",
              "                    --jp-ui-font-color1: white;\n",
              "                    --jp-layout-color2: #454545;\n",
              "                    background-color: #383838;\n",
              "                }\n",
              "\n",
              "                .geemap-dark .jupyter-button {\n",
              "                    --jp-layout-color3: #383838;\n",
              "                }\n",
              "\n",
              "                .geemap-colab {\n",
              "                    background-color: var(--colab-primary-surface-color, white);\n",
              "                }\n",
              "\n",
              "                .geemap-colab .jupyter-button {\n",
              "                    --jp-layout-color3: var(--colab-primary-surface-color, white);\n",
              "                }\n",
              "            </style>\n",
              "            "
            ],
            "text/plain": [
              "<IPython.core.display.HTML object>"
            ]
          },
          "metadata": {},
          "output_type": "display_data"
        },
        {
          "data": {
            "text/html": [
              "<div><style>:root {\n",
              "  --font-color-primary: var(--jp-content-font-color0, rgba(0, 0, 0, 1));\n",
              "  --font-color-secondary: var(--jp-content-font-color2, rgba(0, 0, 0, 0.6));\n",
              "  --font-color-accent: rgba(123, 31, 162, 1);\n",
              "  --border-color: var(--jp-border-color2, #e0e0e0);\n",
              "  --background-color: var(--jp-layout-color0, white);\n",
              "  --background-color-row-even: var(--jp-layout-color1, white);\n",
              "  --background-color-row-odd: var(--jp-layout-color2, #eeeeee);\n",
              "}\n",
              "\n",
              "html[theme=\"dark\"],\n",
              "body[data-theme=\"dark\"],\n",
              "body.vscode-dark {\n",
              "  --font-color-primary: rgba(255, 255, 255, 1);\n",
              "  --font-color-secondary: rgba(255, 255, 255, 0.6);\n",
              "  --font-color-accent: rgb(173, 132, 190);\n",
              "  --border-color: #2e2e2e;\n",
              "  --background-color: #111111;\n",
              "  --background-color-row-even: #111111;\n",
              "  --background-color-row-odd: #313131;\n",
              "}\n",
              "\n",
              ".ee {\n",
              "  padding: 1em;\n",
              "  line-height: 1.5em;\n",
              "  min-width: 300px;\n",
              "  max-width: 1200px;\n",
              "  overflow-y: scroll;\n",
              "  max-height: 600px;\n",
              "  border: 1px solid var(--border-color);\n",
              "  font-family: monospace;\n",
              "}\n",
              "\n",
              ".ee li {\n",
              "  list-style-type: none;\n",
              "}\n",
              "\n",
              ".ee ul {\n",
              "  padding-left: 1.5em !important;\n",
              "  margin: 0;\n",
              "}\n",
              "\n",
              ".ee > ul {\n",
              "  padding-left: 0 !important;\n",
              "}\n",
              "\n",
              ".ee-open,\n",
              ".ee-shut {\n",
              "  color: var(--font-color-secondary);\n",
              "  cursor: pointer;\n",
              "  margin: 0;\n",
              "}\n",
              "\n",
              ".ee-open:hover,\n",
              ".ee-shut:hover {\n",
              "  color: var(--font-color-primary);\n",
              "}\n",
              "\n",
              ".ee-k {\n",
              "  color: var(--font-color-accent);\n",
              "  margin-right: 6px;\n",
              "}\n",
              "\n",
              ".ee-v {\n",
              "  color: var(--font-color-primary);\n",
              "}\n",
              "\n",
              ".ee-toggle {\n",
              "  display: none;\n",
              "}\n",
              "\n",
              ".ee-shut + ul {\n",
              "  display: none;\n",
              "}\n",
              "\n",
              ".ee-open + ul {\n",
              "  display: block;\n",
              "}\n",
              "\n",
              ".ee-shut::before {\n",
              "  display: inline-block;\n",
              "  content: \"▼\";\n",
              "  margin-right: 6px;\n",
              "  transform: rotate(-90deg);\n",
              "  transition: transform 0.2s;\n",
              "}\n",
              "\n",
              ".ee-open::before {\n",
              "  transform: rotate(0deg);\n",
              "  display: inline-block;\n",
              "  content: \"▼\";\n",
              "  margin-right: 6px;\n",
              "  transition: transform 0.2s;\n",
              "}\n",
              "</style><div class='ee'><ul><li><label class='ee-shut'>['dNBR']<input type='checkbox' class='ee-toggle'></label><ul><li><span class='ee-k'>0:</span><span class='ee-v'>dNBR</span></li></ul></li></ul></div><script>function toggleHeader() {\n",
              "    const parent = this.parentElement;\n",
              "    parent.className = parent.className === \"ee-open\" ? \"ee-shut\" : \"ee-open\";\n",
              "}\n",
              "\n",
              "for (let c of document.getElementsByClassName(\"ee-toggle\")) {\n",
              "    c.onclick = toggleHeader;\n",
              "}</script></div>"
            ],
            "text/plain": [
              "<ee.ee_list.List at 0x202ab4f4650>"
            ]
          },
          "execution_count": 155,
          "metadata": {},
          "output_type": "execute_result"
        }
      ],
      "source": [
        "S2_dNBR.bandNames()"
      ]
    },
    {
      "cell_type": "markdown",
      "metadata": {},
      "source": [
        "## Output image to Google drive folder"
      ]
    },
    {
      "cell_type": "code",
      "execution_count": 180,
      "metadata": {},
      "outputs": [
        {
          "data": {
            "text/html": [
              "\n",
              "            <style>\n",
              "                .geemap-dark {\n",
              "                    --jp-widgets-color: white;\n",
              "                    --jp-widgets-label-color: white;\n",
              "                    --jp-ui-font-color1: white;\n",
              "                    --jp-layout-color2: #454545;\n",
              "                    background-color: #383838;\n",
              "                }\n",
              "\n",
              "                .geemap-dark .jupyter-button {\n",
              "                    --jp-layout-color3: #383838;\n",
              "                }\n",
              "\n",
              "                .geemap-colab {\n",
              "                    background-color: var(--colab-primary-surface-color, white);\n",
              "                }\n",
              "\n",
              "                .geemap-colab .jupyter-button {\n",
              "                    --jp-layout-color3: var(--colab-primary-surface-color, white);\n",
              "                }\n",
              "            </style>\n",
              "            "
            ],
            "text/plain": [
              "<IPython.core.display.HTML object>"
            ]
          },
          "metadata": {},
          "output_type": "display_data"
        },
        {
          "name": "stdout",
          "output_type": "stream",
          "text": [
            "Exporting to Google Drive...\n",
            "Exporting... Please wait.\n",
            "Exporting... Please wait.\n",
            "Export completed.\n"
          ]
        }
      ],
      "source": [
        "# Define export parameters\n",
        "driveFLD = os.path.join('EarthEngineFolder', in_Name, in_Name)\n",
        "tStamp = datetime.now().strftime(\"%d%m%Y_%H%M\")\n",
        "export_task = ee.batch.Export.image.toDrive(\n",
        "    image=S2_dNBR,\n",
        "    description='sentinel2_dNBR_image_export',\n",
        "    folder='EarthEngineFolder',  # Folder in your Google Drive\n",
        "    fileNamePrefix=in_Name+'---S2_dNBR---'+tStamp,  # File name prefix\n",
        "    region=clipAOI,  # Define the region to export (could be an area of interest)\n",
        "    scale=800,  # Spatial resolution in meters\n",
        "    fileFormat='GeoTIFF',  # File format\n",
        "    maxPixels=1e12  # Max pixels to export\n",
        ")\n",
        "\n",
        "\n",
        "\n",
        "# Start the export task\n",
        "try:\n",
        "    export_task.start()\n",
        "    print(\"Exporting to Google Drive...\")\n",
        "\n",
        "    # Check the status of the export task\n",
        "    while export_task.active():\n",
        "        print('Exporting... Please wait.')\n",
        "        time.sleep(10)\n",
        "\n",
        "    print('Export completed.')\n",
        "\n",
        "except ee.ee_exception.EEException as e:\n",
        "    print(f\"Error during export: {e}\")\n",
        "except Exception as e:\n",
        "    print(f\"Unexpected error: {e}\")\n"
      ]
    },
    {
      "cell_type": "markdown",
      "metadata": {},
      "source": [
        "## Miscellaneous"
      ]
    },
    {
      "cell_type": "markdown",
      "metadata": {},
      "source": [
        "#### Miscellaneous: Visualize calculated indices"
      ]
    },
    {
      "cell_type": "code",
      "execution_count": 149,
      "metadata": {},
      "outputs": [
        {
          "data": {
            "text/html": [
              "\n",
              "            <style>\n",
              "                .geemap-dark {\n",
              "                    --jp-widgets-color: white;\n",
              "                    --jp-widgets-label-color: white;\n",
              "                    --jp-ui-font-color1: white;\n",
              "                    --jp-layout-color2: #454545;\n",
              "                    background-color: #383838;\n",
              "                }\n",
              "\n",
              "                .geemap-dark .jupyter-button {\n",
              "                    --jp-layout-color3: #383838;\n",
              "                }\n",
              "\n",
              "                .geemap-colab {\n",
              "                    background-color: var(--colab-primary-surface-color, white);\n",
              "                }\n",
              "\n",
              "                .geemap-colab .jupyter-button {\n",
              "                    --jp-layout-color3: var(--colab-primary-surface-color, white);\n",
              "                }\n",
              "            </style>\n",
              "            "
            ],
            "text/plain": [
              "<IPython.core.display.HTML object>"
            ]
          },
          "metadata": {},
          "output_type": "display_data"
        },
        {
          "data": {
            "application/vnd.jupyter.widget-view+json": {
              "model_id": "1deacf3796f54fdc98934c95473720fe",
              "version_major": 2,
              "version_minor": 0
            },
            "text/plain": [
              "Map(bottom=80508.0, center=[-37.335224359306395, 509.32766905173236], controls=(WidgetControl(options=['positi…"
            ]
          },
          "execution_count": 149,
          "metadata": {},
          "output_type": "execute_result"
        }
      ],
      "source": [
        "# Produce Severity classes\n",
        "S2_severity = ee.Image(1) \\\n",
        ".where(S2_dNBR.gt(-500).And(S2_dNBR.lte(-251)), 1) \\\n",
        ".where(S2_dNBR.gt(-251).And(S2_dNBR.lte(-101)), 2) \\\n",
        ".where(S2_dNBR.gt(-101).And(S2_dNBR.lte(99)), 3) \\\n",
        ".where(S2_dNBR.gt(99).And(S2_dNBR.lte(269)), 4) \\\n",
        ".where(S2_dNBR.gt(269).And(S2_dNBR.lte(439)), 5) \\\n",
        ".where(S2_dNBR.gt(439).And(S2_dNBR.lte(659)), 6) \\\n",
        ".where(S2_dNBR.gt(660).And(S2_dNBR.lte(1300)), 7) \\\n",
        ".clip(clipAOI)\n",
        "# # ------------------------------------------------ # #\n",
        "\n",
        "\n",
        "\n",
        "# # ------------------------------------------------ # #\n",
        "# # NBR fire severity color:https:#un-spider.Org/advisory-support/recommended-practices/recommended-practice-burn-severity/Step-By-Step/RStudio\n",
        "dnbrPal = [\"556B2F\",\"6E8B3D\",\"32CD32\", \"EEEE00\", \"EE7600\", \"FF0000\", \"A020F0\"]\n",
        "# # NDVI palette https:#custom-scripts.sentinel-hub.com/sentinel-2/ndvi/\n",
        "ndviPal = [\"0c0c0c\", \"eaeaea\", \"ccc682\", \"91bf51\", \"70a33f\", \"4f892d\", \"306d1c\", \"0f540a\", \"004400\"]\n",
        "# # name of the legend\n",
        "dnbrNames = [\"Enhanced Regrowth, High\", \"Enhanced Regrowth, Low\", \"Unburned\", \"Low Severity\", \"Moderate-low Severity\", \"Moderate-high Severity\", \"High Severity\"]\n",
        "\n",
        "visNBR = {'bands': \"NBR\", 'max':1, 'min': -1, 'palette': [\"green\", \"red\"]}\n",
        "\n",
        "visNDVI = {\n",
        "    'bands': \"NDVI\",\n",
        "    'max': 1,\n",
        "    'min': -1,\n",
        "    'palette': ndviPal\n",
        "}\n",
        "visdNBR = {\n",
        "    'max': 1300,\n",
        "    'min': -500,\n",
        "    'palette': dnbrPal\n",
        "}\n",
        "visSevere = {\n",
        "    'max': 7,\n",
        "    'min': 1,\n",
        "    'palette': dnbrPal\n",
        "}\n",
        "\n",
        "# m.addLayer(S2pre_id, visNDVI, \"NDVI_pre\")\n",
        "# m.addLayer(S2pos_id, visNDVI, \"NDVI_pos\")\n",
        "Map.addLayer(S2_dNBR.clip(clipAOI), visdNBR, \"dNBR\")\n",
        "Map.addLayer(S2_severity.clip(clipAOI), visSevere, \"dNBR Severity\")\n",
        "# # ------------------------------------------------ # #\n",
        "\n",
        "Map\n",
        "\n",
        "\n"
      ]
    },
    {
      "cell_type": "markdown",
      "metadata": {},
      "source": [
        "#### Miscellaneous: Counting pixels"
      ]
    },
    {
      "cell_type": "code",
      "execution_count": 164,
      "metadata": {},
      "outputs": [
        {
          "data": {
            "text/html": [
              "\n",
              "            <style>\n",
              "                .geemap-dark {\n",
              "                    --jp-widgets-color: white;\n",
              "                    --jp-widgets-label-color: white;\n",
              "                    --jp-ui-font-color1: white;\n",
              "                    --jp-layout-color2: #454545;\n",
              "                    background-color: #383838;\n",
              "                }\n",
              "\n",
              "                .geemap-dark .jupyter-button {\n",
              "                    --jp-layout-color3: #383838;\n",
              "                }\n",
              "\n",
              "                .geemap-colab {\n",
              "                    background-color: var(--colab-primary-surface-color, white);\n",
              "                }\n",
              "\n",
              "                .geemap-colab .jupyter-button {\n",
              "                    --jp-layout-color3: var(--colab-primary-surface-color, white);\n",
              "                }\n",
              "            </style>\n",
              "            "
            ],
            "text/plain": [
              "<IPython.core.display.HTML object>"
            ]
          },
          "metadata": {},
          "output_type": "display_data"
        },
        {
          "name": "stdout",
          "output_type": "stream",
          "text": [
            "Pixel count for B4 band: {'dNBR': 113379278}\n"
          ]
        }
      ],
      "source": [
        "pixel_count = S2_dNBR.select('dNBR').reduceRegion(\n",
        "    reducer=ee.Reducer.count(),\n",
        "    geometry=clipAOI,  # Use the image's geometry as the region\n",
        "    scale=10,  # Spatial resolution in meters\n",
        "    maxPixels=1e10  # Maximum number of pixels to process\n",
        ")\n",
        "\n",
        "# Print the pixel count\n",
        "print('Pixel count for B4 band:', pixel_count.getInfo())"
      ]
    }
  ],
  "metadata": {
    "anaconda-cloud": {},
    "kernelspec": {
      "display_name": "mapWork2pip",
      "language": "python",
      "name": "python3"
    },
    "language_info": {
      "codemirror_mode": {
        "name": "ipython",
        "version": 3
      },
      "file_extension": ".py",
      "mimetype": "text/x-python",
      "name": "python",
      "nbconvert_exporter": "python",
      "pygments_lexer": "ipython3",
      "version": "3.12.7"
    }
  },
  "nbformat": 4,
  "nbformat_minor": 4
}
