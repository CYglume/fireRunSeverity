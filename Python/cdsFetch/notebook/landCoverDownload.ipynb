{
 "cells": [
  {
   "cell_type": "code",
   "execution_count": 114,
   "id": "ea576f6d",
   "metadata": {},
   "outputs": [],
   "source": [
    "import os, re, json\n",
    "import cdsapi\n",
    "import geopandas as gpd\n",
    "from shapely.geometry import Polygon, mapping\n",
    "from datetime import datetime\n",
    "from timezonefinder import TimezoneFinder\n",
    "import pytz\n",
    "from zoneinfo import ZoneInfo\n",
    "from zipfile import ZipFile"
   ]
  },
  {
   "cell_type": "code",
   "execution_count": null,
   "id": "325588b4",
   "metadata": {},
   "outputs": [],
   "source": [
    "# To get root path under project folder structure\n",
    "cwd = os.path.dirname(os.path.abspath(\"__file__\"))\n",
    "root_folder = cwd.split('\\\\')\n",
    "root_folder = root_folder[1:-3]\n",
    "if root_folder[-1] != 'fireRunSeverity':\n",
    "    print(\"!!-- Didn't get correct root folder! --!!\")\n",
    "    print(root_folder)\n",
    "    print(\"!!-- Modify rooting index at line: 18 and come back --!!\")\n",
    "root_folder = os.path.join(os.sep,*root_folder)\n",
    "run_DataDir = r\"data/fireruns\"\n",
    "ER5_Dir     = r\"data/ER5\"\n",
    "LandCV_Dir  = r\"data/LandCover\"\n",
    "\n",
    "#load credential\n",
    "cred_json = os.path.join(cwd, \".cds_cred.json\")\n",
    "if os.path.exists(cred_json):\n",
    "    with open(cred_json, \"r\") as f1:\n",
    "        cred = json.load(f1)\n",
    "\n",
    "if \"cred\" in locals():\n",
    "    cdsAPI_KEY = cred['cdsAPI_KEY']\n",
    "else:\n",
    "    cdsAPI_KEY = input(\"CDS API Key: \")\n",
    "    cred = {\"cdsAPI_KEY\": cdsAPI_KEY}\n",
    "    with open(cred_json, \"w\") as f1:\n",
    "        json.dump(cred, f1)\n",
    "del cred\n",
    "\n",
    "# Local Side data\n",
    "# List in put data for GEE fetch\n",
    "AreaList = os.listdir(os.path.join(root_folder,run_DataDir))\n",
    "AreaList[1]"
   ]
  },
  {
   "cell_type": "markdown",
   "id": "482a7431",
   "metadata": {},
   "source": [
    "## Load Local side data"
   ]
  },
  {
   "cell_type": "code",
   "execution_count": null,
   "id": "e109381a",
   "metadata": {},
   "outputs": [
    {
     "name": "stdout",
     "output_type": "stream",
     "text": [
      "\n",
      "\n",
      " ######################################################\n",
      "Process AOI: isocronas_las_tablas\n",
      "Shp Name: isocronas_las_tablas.shp\n",
      "Shp  CRS: EPSG:32719\n",
      "(-71.63790600801836, -33.291039620278845, -71.33041368117995, -32.892482205844416)\n",
      "[-32.892482205844416, -71.63790600801836, -33.291039620278845, -71.33041368117995]\n"
     ]
    }
   ],
   "source": [
    "in_Name = AreaList[1]\n",
    "print(\"\\n\\n ######################################################\")\n",
    "print(\"Process AOI:\", in_Name)\n",
    "dataFLD = os.path.join(root_folder, run_DataDir, in_Name)\n",
    "inFLD = os.path.join(dataFLD, 'input')\n",
    "shpIn  = []\n",
    "for f in os.scandir(inFLD):\n",
    "    if re.search(r\".shp$\", f.name):\n",
    "        print(\"Shp Name:\", f.name)\n",
    "        shpIn.append(f)\n",
    "\n",
    "if len(shpIn) != 1:\n",
    "    print(\"No. of shp file not equal to 1!\")\n",
    "    exit()\n",
    "else:\n",
    "    shpIn = shpIn[0]\n",
    "\n",
    "# Read Shp file\n",
    "shpGPD = gpd.read_file(os.path.join(inFLD, shpIn))\n",
    "print(\"Shp  CRS:\", shpGPD.crs)\n",
    "shpGPD_bf = shpGPD.buffer(10000)\n",
    "shpbf_reproj = shpGPD_bf.to_crs(\"EPSG:4326\")\n",
    "del shpGPD_bf\n",
    "\n",
    "# Get the bounds\n",
    "minx, miny, maxx, maxy = shpbf_reproj.total_bounds\n",
    "# Create a polygon of bounds\n",
    "bounds_polygon = Polygon([(minx, miny), (minx, maxy), (maxx, maxy), (maxx, miny), (minx, miny)])\n",
    "bounds_wgs     = bounds_polygon.bounds\n",
    "# Shapely bounds: [xmin, ymin, xmax, ymax]\n",
    "# Reorder to CDS format [ymax, xmin, ymin, xmax]\n",
    "print(bounds_polygon.bounds)\n",
    "cds_bound = [bounds_wgs[3], bounds_wgs[0], bounds_wgs[1], bounds_wgs[2]]\n",
    "print(cds_bound)"
   ]
  },
  {
   "cell_type": "markdown",
   "id": "90bf45a0",
   "metadata": {},
   "source": [
    "## Modify time zone"
   ]
  },
  {
   "cell_type": "code",
   "execution_count": 108,
   "id": "d26bb1ee",
   "metadata": {},
   "outputs": [
    {
     "name": "stdout",
     "output_type": "stream",
     "text": [
      "Accurate Time Zone: America/Santiago\n"
     ]
    }
   ],
   "source": [
    "latitude = (miny + maxy)/2\n",
    "longitude = (minx + maxx)/2\n",
    "tf = TimezoneFinder()\n",
    "timezone = tf.timezone_at(lng=longitude, lat=latitude)\n",
    "print(f\"Accurate Time Zone: {timezone}\")"
   ]
  },
  {
   "cell_type": "code",
   "execution_count": 18,
   "id": "843821c9",
   "metadata": {},
   "outputs": [
    {
     "name": "stdout",
     "output_type": "stream",
     "text": [
      "Process AOI: isocronas_las_tablas\t2024-02-02\n"
     ]
    }
   ],
   "source": [
    "print(\"Process AOI:\", in_Name, end=\"\\t\")\n",
    "dataFLD = os.path.join(root_folder, run_DataDir, in_Name)\n",
    "inFLD = os.path.join(dataFLD, 'input')\n",
    "shpIn  = []\n",
    "for f in os.scandir(inFLD):\n",
    "    if re.search(r\".shp$\", f.name):\n",
    "        # print(\"Shp Name:\", f.name)\n",
    "        shpIn.append(f)\n",
    "\n",
    "if len(shpIn) != 1:\n",
    "    print(\"No. of shp file not equal to 1!\")\n",
    "    exit()\n",
    "else:\n",
    "    shpIn = shpIn[0]\n",
    "\n",
    "shpGPD = gpd.read_file(os.path.join(inFLD, shpIn))\n",
    "\n",
    "# Get date of data\n",
    "# Convert time zone to UTC\n",
    "fire_dtString = list(shpGPD['FeHo'].dropna())\n",
    "fire_dtsList  = [datetime.strptime(dt, \"%Y/%m/%d_%H%M\").replace(tzinfo=ZoneInfo(timezone)) for dt in fire_dtString if not re.search(\"\\\\D\", dt[:4])] # Filter out string with non-digit characters\n",
    "tz_utc = pytz.timezone(\"UTC\")\n",
    "dateSt_UTC = min(fire_dtsList).astimezone(tz_utc)\n",
    "\n",
    "# print(sorted(fire_dtsList_UTC))\n",
    "dateSt = dateSt_UTC.date()\n",
    "print(dateSt)"
   ]
  },
  {
   "cell_type": "code",
   "execution_count": null,
   "id": "ccd04b30",
   "metadata": {},
   "outputs": [
    {
     "name": "stderr",
     "output_type": "stream",
     "text": [
      "2025-09-08 14:57:39,180 INFO [2024-09-26T00:00:00] Watch our [Forum](https://forum.ecmwf.int/) for Announcements, news and other discussed topics.\n"
     ]
    },
    {
     "name": "stdout",
     "output_type": "stream",
     "text": [
      "-- Unzipping dataset...\n",
      "File version check successful:\n",
      "C3S-LC-L4-LCCS-Map-300m-P1Y-2022-v2.1.1.area-subset.-32.892482205844416.-71.33041368117995.-33.291039620278845.-71.63790600801836.nc\n"
     ]
    }
   ],
   "source": [
    "# Check LandCover Folder\n",
    "outFld = os.path.join(root_folder, LandCV_Dir, in_Name)\n",
    "if not os.path.exists(outFld):\n",
    "    os.makedirs(outFld)\n",
    "\n",
    "c = cdsapi.Client(key=cdsAPI_KEY,\n",
    "                    url='https://cds.climate.copernicus.eu/api', quiet=False, sleep_max=5, timeout=7200)\n",
    "\n",
    "output_file = os.path.join(outFld, f\"CDS_LandCover_{in_Name}_{dateSt.year}.nc\")\n",
    "\n",
    "if not os.path.exists(output_file):\n",
    "  zip_name = output_file.replace(\".nc\", \".zip\")\n",
    "  cds_year = 2022 if dateSt.year > 2022 else dateSt.year\n",
    "  dt_vers  = \"v2_0_7cds\" if cds_year < 2016 else \"v2_1_1\"\n",
    "  print(\"Use Land Cover Map Year:\", cds_year)\n",
    "  \n",
    "  if not os.path.exists(zip_name):\n",
    "    print(\"-- Requesting Land Cover datasets...\")\n",
    "    dataset = \"satellite-land-cover\"\n",
    "    request = {\n",
    "      \"variable\": \"all\",\n",
    "      \"year\": [str(cds_year)],\n",
    "      \"version\": [dt_vers],\n",
    "      \"area\": cds_bound,\n",
    "    }\n",
    "\n",
    "    c.retrieve(dataset, request, zip_name)\n",
    "  \n",
    "  print(\"-- Unzipping dataset...\")\n",
    "  with ZipFile(zip_name, 'r') as zip_ref:\n",
    "    if len(zip_ref.filelist) > 1:\n",
    "        print(\"Found multiple files:\", *zip_ref.filelist, sep=\"\\n\")\n",
    "    elif re.search(dt_vers.replace(\"_\", \".\"), zip_ref.filelist[0].filename):\n",
    "        print(\"File version check successful:\", zip_ref.filelist[0].filename, sep=\"\\n\")\n",
    "        zip_ref.extract(zip_ref.filelist[0], os.path.dirname(zip_name))\n",
    "        srcf = os.path.join(root_folder, LandCV_Dir, in_Name, zip_ref.filelist[0].filename)\n",
    "        os.rename(srcf, output_file)\n",
    "else:\n",
    "   print(\"NC File exists!\")"
   ]
  }
 ],
 "metadata": {
  "kernelspec": {
   "display_name": "geefetch-py3.12",
   "language": "python",
   "name": "python3"
  },
  "language_info": {
   "codemirror_mode": {
    "name": "ipython",
    "version": 3
   },
   "file_extension": ".py",
   "mimetype": "text/x-python",
   "name": "python",
   "nbconvert_exporter": "python",
   "pygments_lexer": "ipython3",
   "version": "3.12.3"
  }
 },
 "nbformat": 4,
 "nbformat_minor": 5
}
